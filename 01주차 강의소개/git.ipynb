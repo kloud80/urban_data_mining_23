{
 "nbformat": 4,
 "nbformat_minor": 0,
 "metadata": {
  "colab": {
   "provenance": [],
   "collapsed_sections": [],
   "authorship_tag": "ABX9TyNYlXan/d5pXsDwF0igIsoa"
  },
  "kernelspec": {
   "name": "python3",
   "display_name": "Python 3"
  },
  "language_info": {
   "name": "python"
  }
 },
 "cells": [
  {
   "cell_type": "code",
   "execution_count": null,
   "metadata": {
    "colab": {
     "base_uri": "https://localhost:8080/"
    },
    "id": "31BLFA4LrBJl",
    "executionInfo": {
     "status": "ok",
     "timestamp": 1662868336819,
     "user_tz": -540,
     "elapsed": 20719,
     "user": {
      "displayName": "­구름 | 공과대학 도시공학과 | 겸임교수 | 한양대(서울)",
      "userId": "01437336538035275262"
     }
    },
    "outputId": "3a1e4788-b6f2-4577-cc3b-26ff79ed61e4",
    "pycharm": {
     "name": "#%%\n",
     "is_executing": true
    }
   },
   "outputs": [],
   "source": [
    "#구글 드라이버와 colab을 연결\n",
    "from google.colab import drive\n",
    "drive.mount('/content/drive')"
   ]
  },
  {
   "cell_type": "code",
   "source": [
    "#구글 드라이버에서 Colab Notebooks 폴더로 이동\n",
    "import os\n",
    "os.chdir('/content/drive/MyDrive/Colab Notebooks')"
   ],
   "metadata": {
    "id": "RNI3fCWhsaNp",
    "executionInfo": {
     "status": "ok",
     "timestamp": 1662868699443,
     "user_tz": -540,
     "elapsed": 280,
     "user": {
      "displayName": "­구름 | 공과대학 도시공학과 | 겸임교수 | 한양대(서울)",
      "userId": "01437336538035275262"
     }
    },
    "pycharm": {
     "name": "#%%\n",
     "is_executing": true
    }
   },
   "execution_count": null,
   "outputs": []
  },
  {
   "cell_type": "code",
   "source": [
    "#깃헙에서 코드 복제하기\n",
    "!git clone https://github.com/kloud80/urban_data_mining_23.git"
   ],
   "metadata": {
    "colab": {
     "base_uri": "https://localhost:8080/"
    },
    "id": "aNYu_-zEsE5e",
    "executionInfo": {
     "status": "ok",
     "timestamp": 1662868794451,
     "user_tz": -540,
     "elapsed": 271,
     "user": {
      "displayName": "­구름 | 공과대학 도시공학과 | 겸임교수 | 한양대(서울)",
      "userId": "01437336538035275262"
     }
    },
    "outputId": "1e13fde6-58c9-4570-bc90-fa0f3f43403f",
    "pycharm": {
     "name": "#%%\n"
    }
   },
   "execution_count": 15,
   "outputs": [
    {
     "output_type": "stream",
     "name": "stdout",
     "text": [
      "fatal: destination path 'urban-data-mining' already exists and is not an empty directory.\n"
     ]
    }
   ]
  },
  {
   "cell_type": "code",
   "source": [
    "#복제한 폴더로 이동\n",
    "os.chdir('/content/drive/MyDrive/Colab Notebooks/urban-data-mining')"
   ],
   "metadata": {
    "id": "_9J00bd_twys",
    "executionInfo": {
     "status": "ok",
     "timestamp": 1662869600537,
     "user_tz": -540,
     "elapsed": 282,
     "user": {
      "displayName": "­구름 | 공과대학 도시공학과 | 겸임교수 | 한양대(서울)",
      "userId": "01437336538035275262"
     }
    },
    "pycharm": {
     "name": "#%%\n"
    }
   },
   "execution_count": 27,
   "outputs": []
  },
  {
   "cell_type": "code",
   "source": [
    "#깃헙 업데이트 당겨오기\n",
    "!git pull"
   ],
   "metadata": {
    "colab": {
     "base_uri": "https://localhost:8080/"
    },
    "id": "e2iBVnsQvKVQ",
    "executionInfo": {
     "status": "ok",
     "timestamp": 1662869743124,
     "user_tz": -540,
     "elapsed": 1127,
     "user": {
      "displayName": "­구름 | 공과대학 도시공학과 | 겸임교수 | 한양대(서울)",
      "userId": "01437336538035275262"
     }
    },
    "outputId": "96e924bf-e208-4b95-9899-ef3aa64f5609",
    "pycharm": {
     "name": "#%%\n"
    }
   },
   "execution_count": 29,
   "outputs": [
    {
     "output_type": "stream",
     "name": "stdout",
     "text": [
      "remote: Enumerating objects: 10, done.\u001B[K\n",
      "remote: Counting objects:  10% (1/10)\u001B[K\rremote: Counting objects:  20% (2/10)\u001B[K\rremote: Counting objects:  30% (3/10)\u001B[K\rremote: Counting objects:  40% (4/10)\u001B[K\rremote: Counting objects:  50% (5/10)\u001B[K\rremote: Counting objects:  60% (6/10)\u001B[K\rremote: Counting objects:  70% (7/10)\u001B[K\rremote: Counting objects:  80% (8/10)\u001B[K\rremote: Counting objects:  90% (9/10)\u001B[K\rremote: Counting objects: 100% (10/10)\u001B[K\rremote: Counting objects: 100% (10/10), done.\u001B[K\n",
      "remote: Compressing objects:  20% (1/5)\u001B[K\rremote: Compressing objects:  40% (2/5)\u001B[K\rremote: Compressing objects:  60% (3/5)\u001B[K\rremote: Compressing objects:  80% (4/5)\u001B[K\rremote: Compressing objects: 100% (5/5)\u001B[K\rremote: Compressing objects: 100% (5/5), done.\u001B[K\n",
      "remote: Total 8 (delta 1), reused 8 (delta 1), pack-reused 0\u001B[K\n",
      "Unpacking objects:  12% (1/8)   \rUnpacking objects:  25% (2/8)   \rUnpacking objects:  37% (3/8)   \rUnpacking objects:  50% (4/8)   \rUnpacking objects:  62% (5/8)   \rUnpacking objects:  75% (6/8)   \rUnpacking objects:  87% (7/8)   \rUnpacking objects: 100% (8/8)   \rUnpacking objects: 100% (8/8), done.\n",
      "From https://github.com/kloud80/urban-data-mining\n",
      "   bd39f1d..e889c5a  master     -> origin/master\n",
      "Updating bd39f1d..e889c5a\n",
      "Fast-forward\n",
      " 02 Decision Tree/data_loader.py | 2 \u001B[32m++\u001B[m\n",
      " 1 file changed, 2 insertions(+)\n",
      " create mode 100644 02 Decision Tree/data_loader.py\n"
     ]
    }
   ]
  }
 ]
}