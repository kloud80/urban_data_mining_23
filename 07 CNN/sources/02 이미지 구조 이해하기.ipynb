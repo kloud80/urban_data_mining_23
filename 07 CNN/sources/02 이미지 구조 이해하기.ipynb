{
 "nbformat": 4,
 "nbformat_minor": 0,
 "metadata": {
  "colab": {
   "provenance": [],
   "collapsed_sections": [],
   "authorship_tag": "ABX9TyNWvjYaaxBDusyuGPw6PJX9"
  },
  "kernelspec": {
   "name": "python3",
   "display_name": "Python 3"
  },
  "language_info": {
   "name": "python"
  }
 },
 "cells": [
  {
   "cell_type": "code",
   "execution_count": 1,
   "metadata": {
    "id": "vMh5HLMdZJZB",
    "executionInfo": {
     "status": "ok",
     "timestamp": 1666403628007,
     "user_tz": -540,
     "elapsed": 526,
     "user": {
      "displayName": "구름",
      "userId": "09983266874922425358"
     }
    }
   },
   "outputs": [],
   "source": [
    "# -*- coding: utf-8 -*-\n",
    "\"\"\"\n",
    "Created on Sat Jun 12 14:23:46 2021\n",
    "\n",
    "작성 : 구름\n",
    "내용 : Convolution Network 이해 강의용\n",
    "\"\"\"\n",
    "import numpy as np\n",
    "import pandas as pd\n",
    "import os\n",
    "\n",
    "from PIL import Image\n",
    "\n",
    "import matplotlib.pyplot as plt\n"
   ]
  },
  {
   "cell_type": "code",
   "source": [
    "#구글 드라이브에 연결\n",
    "from google.colab import drive\n",
    "\n",
    "drive.mount('/content/gdrive/')"
   ],
   "metadata": {
    "id": "510Tojy4ZbY7"
   },
   "execution_count": null,
   "outputs": []
  },
  {
   "cell_type": "code",
   "source": [
    "#작업 폴더 이동\n",
    "os.chdir('/content/gdrive/My Drive/Colab Notebooks/urban_data_mining_23/07 CNN/data/')\n",
    "os.listdir()\n",
    "# os.getcwd()"
   ],
   "metadata": {
    "id": "0eBNwnkIZlXp"
   },
   "execution_count": null,
   "outputs": []
  },
  {
   "cell_type": "code",
   "source": [
    "#이미지를 불러내서 numpy로 변환\n",
    "img = Image.open('images/BV1171010400100090001.png')\n",
    "data = np.array(img)\n",
    "\n",
    "plt.figure(figsize=(500/80, 500/80))\n",
    "plt.imshow(data)"
   ],
   "metadata": {
    "id": "r6gxkeC-aGSl"
   },
   "execution_count": null,
   "outputs": []
  },
  {
   "cell_type": "code",
   "source": [
    "#numpy 구조\n",
    "data.shape"
   ],
   "metadata": {
    "id": "iM1CdWMca3zw"
   },
   "execution_count": null,
   "outputs": []
  },
  {
   "cell_type": "code",
   "source": [
    "#채널별 데이터 보기\n",
    "data[:,:, 3]"
   ],
   "metadata": {
    "id": "o-MMDHtca-0u"
   },
   "execution_count": null,
   "outputs": []
  },
  {
   "cell_type": "code",
   "source": [
    "\"\"\"색깔별 출력\"\"\"\n",
    "plt.figure(figsize=(500/80, 500/80))\n",
    "plt.imshow(data[:, : , 0], cmap='Reds_r')"
   ],
   "metadata": {
    "id": "HARk5V-kbOl5"
   },
   "execution_count": null,
   "outputs": []
  },
  {
   "cell_type": "code",
   "source": [
    "\n",
    "plt.figure(figsize=(500/80, 500/80))\n",
    "plt.imshow(data[:, : , 1], cmap='Greens_r')"
   ],
   "metadata": {
    "id": "ry7tUgvbbX6W"
   },
   "execution_count": null,
   "outputs": []
  },
  {
   "cell_type": "code",
   "source": [
    "\n",
    "plt.figure(figsize=(500/80, 500/80))\n",
    "plt.imshow(data[:, : , 2], cmap='Blues_r')"
   ],
   "metadata": {
    "id": "K6VFINtsbadX"
   },
   "execution_count": null,
   "outputs": []
  },
  {
   "cell_type": "code",
   "source": [
    "#빨간색 채널 변경\n",
    "data[0:200, :, 0] = 255\n",
    "\n",
    "plt.figure(figsize=(500/80, 500/80))\n",
    "plt.imshow(data)"
   ],
   "metadata": {
    "id": "WhJf9a7obeqx"
   },
   "execution_count": null,
   "outputs": []
  },
  {
   "cell_type": "code",
   "source": [
    "#초록색 채널 변경\n",
    "data[:, 0:200, 1] = 255\n",
    "\n",
    "plt.figure(figsize=(500/80, 500/80))\n",
    "plt.imshow(data)\n"
   ],
   "metadata": {
    "id": "E_z2mTZQbiTm"
   },
   "execution_count": null,
   "outputs": []
  },
  {
   "cell_type": "code",
   "source": [
    "#파란색 채널 변경\n",
    "data[-200:-1, :, 2] = 255\n",
    "\n",
    "plt.figure(figsize=(500/80, 500/80))\n",
    "plt.imshow(data)"
   ],
   "metadata": {
    "id": "6TtGEJpOb3QO"
   },
   "execution_count": null,
   "outputs": []
  },
  {
   "cell_type": "code",
   "source": [
    "#회색 처리\n",
    "data_gray = np.zeros([500,500])\n",
    "gray = 0.2989 * data[:,:,0] + 0.5870 * data[:,:,1] + 0.1140 * data[:,:,2]\n",
    "data_gray = gray\n",
    "data_gray = data_gray.astype('int')\n",
    "\n",
    "plt.figure(figsize=(500/80, 500/80))\n",
    "plt.imshow(data_gray, cmap='gray')"
   ],
   "metadata": {
    "id": "HR4V_9WLcHbD"
   },
   "execution_count": null,
   "outputs": []
  },
  {
   "cell_type": "code",
   "source": [
    "#이미지 생성하기\n",
    "r = np.array([[255, 255, 255, 255, 255],\n",
    "              [0, 0, 0, 0, 0],\n",
    "              [0, 0, 0, 0, 0],\n",
    "              [255, 192, 128, 64, 0],\n",
    "              [0, 64, 128, 192, 255]])\n",
    "g = np.array([[0, 0, 0, 0, 0],\n",
    "              [255, 255, 255, 255, 255],\n",
    "              [0, 0, 0, 0, 0],\n",
    "              [0, 64, 128, 192, 255],\n",
    "              [0, 0, 0, 0, 0]])\n",
    "b = np.array([[0, 0, 0, 0, 0],\n",
    "              [0, 0, 0, 0, 0],\n",
    "              [255, 255, 255, 255, 255],\n",
    "              [0, 0, 0, 0, 0],\n",
    "              [255, 192, 128, 64, 0]])\n",
    "t = np.array([[255, 192, 128, 64, 0],\n",
    "              [255, 192, 128, 64, 0],\n",
    "              [255, 192, 128, 64, 0],\n",
    "              [255, 255, 255, 255, 255],\n",
    "              [255, 255, 255, 255, 255]])\n",
    "\n",
    "img = np.zeros([5,5,4]).astype('int')\n",
    "img[:,:,0] = r\n",
    "img[:,:,1] = g\n",
    "img[:,:,2] = b\n",
    "img[:,:,3] = t\n",
    "\n",
    "plt.imshow(img)"
   ],
   "metadata": {
    "id": "4T-odDJTdBXQ"
   },
   "execution_count": null,
   "outputs": []
  },
  {
   "cell_type": "code",
   "source": [],
   "metadata": {
    "id": "-eWaLaXgcwv2"
   },
   "execution_count": null,
   "outputs": []
  }
 ]
}