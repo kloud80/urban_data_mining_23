{
 "nbformat": 4,
 "nbformat_minor": 0,
 "metadata": {
  "colab": {
   "provenance": [],
   "collapsed_sections": [],
   "authorship_tag": "ABX9TyNzuUSADuOgRukubluU8eh/"
  },
  "kernelspec": {
   "name": "python3",
   "display_name": "Python 3"
  },
  "language_info": {
   "name": "python"
  }
 },
 "cells": [
  {
   "cell_type": "code",
   "execution_count": 5,
   "metadata": {
    "id": "0kHWGpuodiME",
    "executionInfo": {
     "status": "ok",
     "timestamp": 1666433177171,
     "user_tz": -540,
     "elapsed": 3314,
     "user": {
      "displayName": "구름",
      "userId": "09983266874922425358"
     }
    }
   },
   "outputs": [],
   "source": [
    "# -*- coding: utf-8 -*-\n",
    "\"\"\"\n",
    "작성 : 구름\n",
    "내용 : Convolution Network 이해 강의용\n",
    "\"\"\"\n",
    "\n",
    "import numpy as np\n",
    "import pandas as pd\n",
    "import os\n",
    "\n",
    "from PIL import Image\n",
    "\n",
    "import matplotlib.pyplot as plt\n",
    "\n",
    "import keras.layers as layers\n",
    "import keras.optimizers as optimizers\n",
    "from keras.models import Model, load_model\n",
    "from keras import layers\n",
    "from keras import models\n",
    "from keras.models import load_model"
   ]
  },
  {
   "cell_type": "code",
   "source": [
    "#구글 드라이브에 연결\n",
    "from google.colab import drive\n",
    "\n",
    "drive.mount('/content/gdrive/')"
   ],
   "metadata": {
    "id": "aci1skZDkqaY"
   },
   "execution_count": null,
   "outputs": []
  },
  {
   "cell_type": "code",
   "source": [
    "#작업 폴더 이동\n",
    "os.chdir('/content/gdrive/My Drive/Colab Notebooks/urban_data_mining_23/07 CNN/data/')\n",
    "os.listdir()\n",
    "# os.getcwd()"
   ],
   "metadata": {
    "id": "pbZnQgEYksoj"
   },
   "execution_count": null,
   "outputs": []
  },
  {
   "cell_type": "code",
   "source": [
    "#사용할 이미지를 생성\n",
    "\n",
    "r = np.array([[200, 200, 200, 200, 200],\n",
    "              [200, 200, 200, 200, 200],\n",
    "              [200, 200, 200, 200, 200],\n",
    "              [0, 0, 0, 0, 0],\n",
    "              [0, 0, 0, 0, 0]])\n",
    "g = np.array([[100, 100, 100, 100, 100],\n",
    "              [100, 100, 100, 100, 100],\n",
    "              [100, 100, 100, 100, 100],\n",
    "              [0, 0, 0, 0, 0],\n",
    "              [0, 0, 0, 0, 0]])\n",
    "b = np.array([[50, 50, 50, 50, 50],\n",
    "              [50, 50, 50, 50, 50],\n",
    "              [50, 50, 50, 50, 50],\n",
    "              [0, 0, 0, 0, 0],\n",
    "              [0, 0, 0, 0, 0]])\n",
    "t = np.array([[255, 255, 255, 255, 255],\n",
    "              [255, 255, 255, 255, 255],\n",
    "              [255, 255, 255, 255, 255],\n",
    "              [255, 255, 255, 255, 255],\n",
    "              [255, 255, 255, 255, 255]])\n",
    "img = np.zeros([5,5,4]).astype('int')\n",
    "img[:,:,0] = r\n",
    "img[:,:,1] = g\n",
    "img[:,:,2] = b\n",
    "img[:,:,3] = t\n",
    "\n",
    "plt.imshow(img)"
   ],
   "metadata": {
    "id": "-6W3X-n2k00J"
   },
   "execution_count": null,
   "outputs": []
  },
  {
   "cell_type": "code",
   "source": [
    "#2D Conv 모델 생성\n",
    "inputs = layers.Input(shape=(5, 5, 4))\n",
    "\n",
    "net = layers.Conv2D(1, kernel_size=3)(inputs)\n",
    "net = layers.LeakyReLU()(net)\n",
    "net = layers.MaxPool2D(pool_size=2)(net)\n",
    "\n",
    "\n",
    "net = layers.Flatten()(net)\n",
    "\n",
    "net = layers.Dense(30, activation='relu')(net)\n",
    "\n",
    "net = layers.Dense(1, activation = 'sigmoid')(net)\n",
    "\n",
    "model = Model(inputs=inputs, outputs=net)\n",
    "\n",
    "model.compile(\n",
    "    loss='binary_crossentropy',  #mse, mean_absolute_error\n",
    "    optimizer='adam',\n",
    "    metrics=['acc']\n",
    ")\n",
    "\n",
    "model.summary()"
   ],
   "metadata": {
    "id": "PPFWsQFok6Yv"
   },
   "execution_count": null,
   "outputs": []
  },
  {
   "cell_type": "code",
   "source": [
    "#Conv 레이어에 지정된 초기 가중치(랜덤 값) 을 확인한다.\n",
    "conv2d_weight = model.layers[1].get_weights()[0]\n",
    "conv2d_weight.shape"
   ],
   "metadata": {
    "id": "MV6jvKwMnug8"
   },
   "execution_count": null,
   "outputs": []
  },
  {
   "cell_type": "code",
   "source": [
    "conv2d_weight[:,:,:,0]"
   ],
   "metadata": {
    "id": "zkReLzalKMH0"
   },
   "execution_count": null,
   "outputs": []
  },
  {
   "cell_type": "code",
   "source": [
    "#2D conv 레이어의 가중치를 임의의 필터로 강제 변환한다.\n",
    "\n",
    "conv2d_weight[:,:,0,0] = [[0.1, 0.1, 0.1],\n",
    "                          [0.1, 0.1, 0.1],\n",
    "                          [0.1, 0.1, 0.1]]\n",
    "\n",
    "conv2d_weight[:,:,1,0] = [[0.2, 0.2, 0.2],\n",
    "                          [0.2, 0.2, 0.2],\n",
    "                          [0.2, 0.2, 0.2]]\n",
    "\n",
    "conv2d_weight[:,:,2,0] = [[0.4, 0.4, 0.4],\n",
    "                          [0.4, 0.4, 0.4],\n",
    "                          [0.4, 0.4, 0.4]]\n",
    "\n",
    "conv2d_weight[:,:,3,0] = [[0., 0., 0.],\n",
    "                          [0., 0., 0.],\n",
    "                          [0., 0., 0.]]\n",
    "\n",
    "model.layers[1].set_weights([conv2d_weight, np.array([0.])])\n",
    "model.layers[1].get_weights()[0][:,:,:,0]"
   ],
   "metadata": {
    "id": "YYrPqFMgo4ND"
   },
   "execution_count": null,
   "outputs": []
  },
  {
   "cell_type": "code",
   "source": [
    "#기존 케라스 모델에서 Conv2D가 최종 Output이 되게 모델을 자른후 new_model을 만들어 준다.\n",
    "new_model = Model(model.input, model.layers[1].output)\n",
    "new_model.summary()"
   ],
   "metadata": {
    "id": "AisH51uXsNPZ"
   },
   "execution_count": null,
   "outputs": []
  },
  {
   "cell_type": "code",
   "source": [
    "#new model에서 predict를 실행하여 input값과 Conv2D Filter의 연산 결과를 확인한다.\n",
    "predict = new_model.predict(np.array([img]))\n",
    "predict.shape"
   ],
   "metadata": {
    "id": "2OgNY7tLscD-"
   },
   "execution_count": null,
   "outputs": []
  },
  {
   "cell_type": "code",
   "source": [
    "#Conv2D Filter의 연산 결과를 확인한다.\n",
    "predict[0,:,:,0]"
   ],
   "metadata": {
    "id": "q8G47Hs8smBw"
   },
   "execution_count": null,
   "outputs": []
  },
  {
   "cell_type": "code",
   "source": [
    "#실제 이미지를 불러온다.\n",
    "\n",
    "img = Image.open('images/BV1171010400100090001.png')\n",
    "data = np.array(img)\n",
    "\n",
    "plt.figure(figsize=(500/80, 500/80))\n",
    "plt.imshow(data)"
   ],
   "metadata": {
    "id": "dAVAWlSwOFXz"
   },
   "execution_count": null,
   "outputs": []
  },
  {
   "cell_type": "code",
   "source": [
    "#edge filter를 만든다.\n",
    "f = np.array([[-1, -1, -1],\n",
    "              [-1,  8, -1],\n",
    "              [-1, -1, -1]])"
   ],
   "metadata": {
    "id": "9ONcdBpqPEzS",
    "executionInfo": {
     "status": "ok",
     "timestamp": 1666434524581,
     "user_tz": -540,
     "elapsed": 303,
     "user": {
      "displayName": "구름",
      "userId": "09983266874922425358"
     }
    }
   },
   "execution_count": 26,
   "outputs": []
  },
  {
   "cell_type": "code",
   "source": [
    "#이미지 정보에 필터를 적용한다..\n",
    "fh = (data.shape[0] - f.shape[0])\n",
    "fw = (data.shape[1] - f.shape[1])\n",
    "\n",
    "ret = np.full(data.shape, 255)\n",
    "for m in range(fh):\n",
    "    for n in range(fw):\n",
    "        for c in range(3):\n",
    "            ret[m, n, c] = np.sum(np.multiply(data[m:m+f.shape[0], n:n+f.shape[1], c], f))\n",
    "\n",
    "ret[np.where(ret < 0)] = 0\n",
    "ret[np.where(ret > 255)] = 255\n",
    "\n",
    "print('complete')"
   ],
   "metadata": {
    "id": "W1eqve3sPOfJ",
    "executionInfo": {
     "status": "ok",
     "timestamp": 1666434633110,
     "user_tz": -540,
     "elapsed": 7072,
     "user": {
      "displayName": "구름",
      "userId": "09983266874922425358"
     }
    }
   },
   "execution_count": 29,
   "outputs": []
  },
  {
   "cell_type": "code",
   "source": [
    "\n",
    "plt.figure(figsize=(500/80, 500/80))\n",
    "plt.imshow(ret)\n"
   ],
   "metadata": {
    "id": "oR7rjLi2PnPI"
   },
   "execution_count": null,
   "outputs": []
  }
 ]
}