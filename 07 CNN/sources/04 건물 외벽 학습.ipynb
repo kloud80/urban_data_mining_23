{
 "nbformat": 4,
 "nbformat_minor": 0,
 "metadata": {
  "colab": {
   "provenance": [],
   "collapsed_sections": [],
   "authorship_tag": "ABX9TyNp1sq+rORawK0iYJRtXnTJ"
  },
  "kernelspec": {
   "name": "python3",
   "display_name": "Python 3"
  },
  "language_info": {
   "name": "python"
  },
  "accelerator": "GPU",
  "gpuClass": "standard"
 },
 "cells": [
  {
   "cell_type": "code",
   "execution_count": 77,
   "metadata": {
    "id": "EkIME8gHQfmc",
    "executionInfo": {
     "status": "ok",
     "timestamp": 1666441349909,
     "user_tz": -540,
     "elapsed": 276,
     "user": {
      "displayName": "구름",
      "userId": "09983266874922425358"
     }
    },
    "pycharm": {
     "name": "#%%\n"
    }
   },
   "outputs": [],
   "source": [
    "# -*- coding: utf-8 -*-\n",
    "\"\"\"\n",
    "\n",
    "작성 : 구름\n",
    "내용 : 로드뷰 건물 벽면 이미지 구별하기 CNN 학습\n",
    "\"\"\"\n",
    "\n",
    "import numpy as np\n",
    "import pandas as pd\n",
    "import os\n",
    "\n",
    "from PIL import Image\n",
    "\n",
    "import matplotlib.pyplot as plt\n",
    "\n",
    "import keras.layers as layers\n",
    "import keras.optimizers as optimizers\n",
    "from keras.models import Model, load_model\n",
    "from keras import layers\n",
    "from keras import models\n",
    "from keras.models import load_model\n",
    "\n",
    "import ipywidgets"
   ]
  },
  {
   "cell_type": "code",
   "source": [
    "#구글 드라이브에 연결\n",
    "from google.colab import drive\n",
    "\n",
    "drive.mount('/content/gdrive/')"
   ],
   "metadata": {
    "id": "XSnO3hDEQ0tZ",
    "pycharm": {
     "name": "#%%\n"
    }
   },
   "execution_count": null,
   "outputs": []
  },
  {
   "cell_type": "code",
   "source": [
    "#작업 폴더 이동\n",
    "os.chdir('/content/gdrive/My Drive/Colab Notebooks/urban_data_mining_23/07 CNN/data/')\n",
    "os.listdir()\n",
    "# os.getcwd()"
   ],
   "metadata": {
    "id": "GF4KsUBhQ-aJ",
    "pycharm": {
     "name": "#%%\n"
    }
   },
   "execution_count": null,
   "outputs": []
  },
  {
   "cell_type": "code",
   "source": [
    "#벽돌과 대리석 이미지 라벨링 불러오기\n",
    "data = pd.read_csv('data.csv', sep=',', encoding='cp949')\n",
    "#y값을 지정\n",
    "data['y'] = data['type'].apply(lambda x: 1 if x =='대리석' else 0)\n",
    "data.head(10)"
   ],
   "metadata": {
    "id": "2-a95rlyRIiu",
    "pycharm": {
     "name": "#%%\n"
    }
   },
   "execution_count": null,
   "outputs": []
  },
  {
   "cell_type": "code",
   "source": [
    "#벽돌과 대리석 이미지  불러오기\n",
    "flist = 'images/' + data['image']\n",
    "\n",
    "image_list = []\n",
    "for f in flist:\n",
    "    img = Image.open(f)\n",
    "    image_list.append(np.array(img))\n"
   ],
   "metadata": {
    "id": "POmw-JpXRYWP",
    "executionInfo": {
     "status": "ok",
     "timestamp": 1666435165438,
     "user_tz": -540,
     "elapsed": 43249,
     "user": {
      "displayName": "구름",
      "userId": "09983266874922425358"
     }
    },
    "pycharm": {
     "name": "#%%\n"
    }
   },
   "execution_count": 10,
   "outputs": []
  },
  {
   "cell_type": "code",
   "source": [
    "#학습데이터 100개\n",
    "training_x = np.array(image_list[:100])\n",
    "training_y = np.array(data['y'].values[:100])\n",
    "\n",
    "#검증 데이터 나머지\n",
    "testing_x = np.array(image_list[100:])\n",
    "testing_y = np.array(data['y'].values[100:])\n",
    "\n",
    "print('training x : ' + str(training_x.shape) + ', y : ' + str(training_y.shape))\n",
    "print('testing x : ' + str(testing_x.shape) + ', y : ' + str(testing_y.shape))"
   ],
   "metadata": {
    "colab": {
     "base_uri": "https://localhost:8080/"
    },
    "id": "lEgCvFDjRh7M",
    "executionInfo": {
     "status": "ok",
     "timestamp": 1666442155763,
     "user_tz": -540,
     "elapsed": 264,
     "user": {
      "displayName": "구름",
      "userId": "09983266874922425358"
     }
    },
    "outputId": "0478fe58-fcb3-41ca-9461-ac44e490565e",
    "pycharm": {
     "name": "#%%\n"
    }
   },
   "execution_count": 93,
   "outputs": [
    {
     "output_type": "stream",
     "name": "stdout",
     "text": [
      "training x : (100, 500, 500, 4), y : (100,)\n",
      "testing x : (38, 500, 500, 4), y : (38,)\n"
     ]
    }
   ]
  },
  {
   "cell_type": "code",
   "source": [
    "#출력해보기\n",
    "\n",
    "print(training_y[0])\n",
    "plt.imshow(training_x[0])\n",
    "plt.show()"
   ],
   "metadata": {
    "id": "-H_6M0EvRwH1",
    "pycharm": {
     "name": "#%%\n"
    }
   },
   "execution_count": null,
   "outputs": []
  },
  {
   "cell_type": "code",
   "source": [
    "#컬러 값을 0~1로 노멀라이징\n",
    "training_x = training_x / 255\n",
    "testing_x = testing_x / 255"
   ],
   "metadata": {
    "id": "KZYXG6ymkXyP",
    "executionInfo": {
     "status": "ok",
     "timestamp": 1666442162979,
     "user_tz": -540,
     "elapsed": 411,
     "user": {
      "displayName": "구름",
      "userId": "09983266874922425358"
     }
    },
    "pycharm": {
     "name": "#%%\n"
    }
   },
   "execution_count": 95,
   "outputs": []
  },
  {
   "cell_type": "code",
   "source": [
    "#CNN 네트워크 만들기\n",
    "\n",
    "inputs = layers.Input(shape=(500, 500, 4))\n",
    "\n",
    "\n",
    "net = layers.Conv2D(10, kernel_size=5, padding='same')(inputs)\n",
    "net = layers.LeakyReLU()(net)\n",
    "\n",
    "net = layers.MaxPool2D(pool_size=5)(net)\n",
    "\n",
    "net = layers.Conv2D(10, kernel_size=5, padding='same')(net)\n",
    "net = layers.LeakyReLU()(net)\n",
    "\n",
    "net = layers.MaxPool2D(pool_size=5)(net)\n",
    "\n",
    "net = layers.Conv2D(20, kernel_size=3, padding='same')(net)\n",
    "net = layers.LeakyReLU()(net)\n",
    "\n",
    "net = layers.MaxPool2D(pool_size=5)(net)\n",
    "\n",
    "net = layers.Conv2D(25, kernel_size=2, padding='same')(net)\n",
    "net = layers.LeakyReLU()(net)\n",
    "\n",
    "net = layers.MaxPool2D(pool_size=4)(net)\n",
    "\n",
    "net = layers.Flatten()(net)\n",
    "\n",
    "net = layers.Dense(10, activation='relu')(net)\n",
    "net = layers.Dropout(0.5)(net)\n",
    "\n",
    "net = layers.Dense(1, activation='sigmoid')(net)\n",
    "\n",
    "\n",
    "model = Model(inputs=inputs, outputs=net)\n",
    "model.compile(\n",
    "    loss='binary_crossentropy',  #mse, mean_absolute_error\n",
    "    optimizer='adam',\n",
    "    metrics=['acc']\n",
    ")\n",
    "model.summary()"
   ],
   "metadata": {
    "id": "KMlyf6nZRuft",
    "pycharm": {
     "name": "#%%\n"
    }
   },
   "execution_count": null,
   "outputs": []
  },
  {
   "cell_type": "code",
   "source": [
    "hist = model.fit(training_x, training_y, epochs=100)"
   ],
   "metadata": {
    "id": "nS3XcGcIVUb3",
    "pycharm": {
     "name": "#%%\n"
    }
   },
   "execution_count": null,
   "outputs": []
  },
  {
   "cell_type": "code",
   "source": [
    "model = load_model('save-0.1606-0.1034.h5')\n",
    "model.summary()"
   ],
   "metadata": {
    "id": "8kMuh7eJXRHg",
    "pycharm": {
     "name": "#%%\n"
    }
   },
   "execution_count": null,
   "outputs": []
  },
  {
   "cell_type": "code",
   "source": [
    "\n",
    "#학습에 사용된 데이터를 이용하여 예측한다\n",
    "predict_y = model.predict(training_x, verbose=1)\n",
    "\n",
    "#실제값과 예측값 shape를 동일하게 변경\n",
    "training_y = training_y.reshape(100,1)\n",
    "predict_y.shape\n",
    "\n",
    "result_training = np.concatenate([training_y, predict_y], axis=1)\n",
    "\n",
    "result_training = np.round(result_training, 3)\n",
    "# result_training[np.where(result_training<0.5)] = 0\n",
    "# result_training[np.where(result_training>=0.5)] = 1\n",
    "print(result_training)"
   ],
   "metadata": {
    "id": "F7R0iLQ1XROd",
    "pycharm": {
     "name": "#%%\n"
    }
   },
   "execution_count": null,
   "outputs": []
  },
  {
   "cell_type": "code",
   "source": [
    "#학습 내용 출력용 함수\n",
    "def diplay_result(idx = 0) :\n",
    "  global training_x, training_y, predict_y\n",
    "  tx = training_x.copy()\n",
    "  tx = tx * 255\n",
    "  tx = tx.astype('int')\n",
    "\n",
    "  dpi = 80\n",
    "  img = training_x[idx, :, :, :]\n",
    "  y = training_y[idx, 0]\n",
    "  yhat = predict_y[idx, 0]\n",
    "\n",
    "  figsize = 500/float(dpi), 500/float(dpi)\n",
    "  fig = plt.figure(figsize=figsize)\n",
    "  plt.imshow(img)\n",
    "  plt.title('Real : '+ {y==0:'bricks',y==1:'marble'}.get(True) + ' // Predict : ' + {yhat<0.5:'bricks',yhat>0.5:'marble'}.get(True))\n"
   ],
   "metadata": {
    "id": "kpUEKrvXk-QP",
    "executionInfo": {
     "status": "ok",
     "timestamp": 1666441927355,
     "user_tz": -540,
     "elapsed": 8,
     "user": {
      "displayName": "구름",
      "userId": "09983266874922425358"
     }
    },
    "pycharm": {
     "name": "#%%\n"
    }
   },
   "execution_count": 88,
   "outputs": []
  },
  {
   "cell_type": "code",
   "source": [
    "#위젯을 이용하여  학습 결과 출력하기\n",
    "ipywidgets.interact(diplay_result, idx=(0, training_y.shape[0], 1) )"
   ],
   "metadata": {
    "id": "aoFfe10uq47g",
    "pycharm": {
     "name": "#%%\n"
    }
   },
   "execution_count": null,
   "outputs": []
  },
  {
   "cell_type": "code",
   "source": [
    "\n",
    "#검증 데이터를 이용하여 예측한다\n",
    "predict_y2 = model.predict(testing_x, verbose=1)\n",
    "\n",
    "#실제값과 예측값 shape를 동일하게 변경\n",
    "testing_y = testing_y.reshape(38,1)\n",
    "predict_y2.shape\n",
    "\n",
    "result_testing = np.concatenate([testing_y, predict_y2], axis=1)\n",
    "\n",
    "\n",
    "result_testing = np.round(result_testing, 3)\n",
    "# result_testing[np.where(result_testing<0.5)] = 0\n",
    "# result_testing[np.where(result_testing>=0.5)] = 1\n",
    "print(result_testing)"
   ],
   "metadata": {
    "id": "2M2V7UiMsE2e",
    "pycharm": {
     "name": "#%%\n"
    }
   },
   "execution_count": null,
   "outputs": []
  },
  {
   "cell_type": "code",
   "source": [
    "#검증 내용 출력용 함수\n",
    "def diplay_result_test(idx = 0) :\n",
    "  global testing_x, testing_y, predict_y2\n",
    "  tx = testing_x.copy()\n",
    "  tx = tx * 255\n",
    "  tx = tx.astype('int')\n",
    "\n",
    "  dpi = 80\n",
    "  img = testing_x[idx, :, :, :]\n",
    "  y = testing_y[idx, 0]\n",
    "  yhat = predict_y2[idx, 0]\n",
    "\n",
    "  figsize = 500/float(dpi), 500/float(dpi)\n",
    "  fig = plt.figure(figsize=figsize)\n",
    "  plt.imshow(img)\n",
    "  plt.title('Real : '+ {y==0:'bricks',y==1:'marble'}.get(True) + ' // Predict : ' + {yhat<0.5:'bricks',yhat>0.5:'marble'}.get(True))\n"
   ],
   "metadata": {
    "id": "Iab8_eiEsQy1",
    "executionInfo": {
     "status": "ok",
     "timestamp": 1666442287854,
     "user_tz": -540,
     "elapsed": 269,
     "user": {
      "displayName": "구름",
      "userId": "09983266874922425358"
     }
    },
    "pycharm": {
     "name": "#%%\n"
    }
   },
   "execution_count": 98,
   "outputs": []
  },
  {
   "cell_type": "code",
   "source": [
    "#위젯을 이용하여  검증 결과 출력하기\n",
    "ipywidgets.interact(diplay_result_test, idx=(0, testing_y.shape[0], 1) )"
   ],
   "metadata": {
    "id": "GBMncWE5s3Ib",
    "pycharm": {
     "name": "#%%\n"
    }
   },
   "execution_count": null,
   "outputs": []
  },
  {
   "cell_type": "code",
   "source": [
    "#학습 내용 출력용 함수\n",
    "def diplay_result_layer(layer=1, idx = 0, f_map=0) :\n",
    "  global model, training_x, training_y, predict_y\n",
    "\n",
    "  new_model = Model(model.input,model.layers[layer].output) #각 층별로 레이어를 자른다\n",
    "  predict = new_model.predict(np.array([training_x[idx, :, :, :]])) #dataseq위치의 학습 데이터를 입력한다\n",
    "\n",
    "  dpi = 80\n",
    "  if f_map > predict.shape[3] : f_map =  predict.shape[3]\n",
    "  img = predict[0, :, :, f_map]\n",
    "\n",
    "  figsize = 500/float(dpi), 500/float(dpi)\n",
    "  fig = plt.figure(figsize=figsize)\n",
    "  plt.imshow(img, cmap='gray')\n",
    "  plt.title(model.get_layer(index=layer))\n",
    "  plt.show()\n"
   ],
   "metadata": {
    "id": "7LXThkG6tUfb",
    "executionInfo": {
     "status": "ok",
     "timestamp": 1666443196788,
     "user_tz": -540,
     "elapsed": 261,
     "user": {
      "displayName": "구름",
      "userId": "09983266874922425358"
     }
    },
    "pycharm": {
     "name": "#%%\n"
    }
   },
   "execution_count": 121,
   "outputs": []
  },
  {
   "cell_type": "code",
   "source": [
    "#위젯을 이용하여  검증 결과 출력하기\n",
    "ipywidgets.interact(diplay_result_layer, layer=(1, len(model.layers)-6, 1), f_map=(0,20,1), idx=(0, testing_y.shape[0], 1) )"
   ],
   "metadata": {
    "id": "fcyHUIiVuaIP",
    "pycharm": {
     "name": "#%%\n"
    }
   },
   "execution_count": null,
   "outputs": []
  },
  {
   "cell_type": "code",
   "source": [
    "#flatten layer 확인\n",
    "new_model = Model(model.input,model.layers[15].output) #flatten 결과 비교\n",
    "predict = new_model.predict(np.array([training_x[dataseq]]))\n",
    "print(predict)\n",
    "\n",
    "predict = new_model.predict(training_x)\n",
    "result_flatten = np.concatenate((result_training, predict), axis=1)\n",
    "\n",
    "result_flatten = pd.DataFrame(result_flatten)\n",
    "\n",
    "result_flatten"
   ],
   "metadata": {
    "id": "p8cpc7KtunVm",
    "pycharm": {
     "name": "#%%\n"
    }
   },
   "execution_count": null,
   "outputs": []
  },
  {
   "cell_type": "code",
   "source": [
    "np_flatten = np.array(result_flatten.values)\n",
    "np_flatten.shape"
   ],
   "metadata": {
    "id": "aR7KzqxvwqTX",
    "pycharm": {
     "name": "#%%\n"
    }
   },
   "execution_count": null,
   "outputs": []
  },
  {
   "cell_type": "code",
   "source": [
    "#flatten 값 클러스터링\n",
    "from sklearn.cluster import KMeans\n",
    "kmeans = KMeans(n_clusters=10).fit(np_flatten[:, 1:])\n",
    "result_kmean = np.array(kmeans.labels_)\n",
    "result_kmean"
   ],
   "metadata": {
    "id": "2DkEh1Jqwxgx",
    "pycharm": {
     "name": "#%%\n"
    }
   },
   "execution_count": null,
   "outputs": []
  },
  {
   "cell_type": "code",
   "source": [
    "#클러스터링 별로 출력해 보기\n",
    "\n",
    "view_cluster = 1\n",
    "\n",
    "f_cls = np.where(result_kmean == view_cluster)[0]\n",
    "\n",
    "\n",
    "fig = plt.figure(figsize=(15,10))\n",
    "\n",
    "for idx in range(len(f_cls)) :\n",
    "  img = training_x[f_cls[idx],:,:,:] * 255\n",
    "  img = img.astype('int')\n",
    "  ax = fig.add_subplot(int((len(f_cls)) / 5+1), 5, idx+1)\n",
    "  ax.imshow(img)\n",
    "  ax.axis('off')\n",
    "\n",
    "plt.show()\n"
   ],
   "metadata": {
    "id": "w6oriUpOxve1",
    "pycharm": {
     "name": "#%%\n"
    }
   },
   "execution_count": null,
   "outputs": []
  }
 ]
}