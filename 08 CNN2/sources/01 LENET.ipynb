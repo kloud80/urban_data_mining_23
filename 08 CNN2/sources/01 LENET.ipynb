{
 "nbformat": 4,
 "nbformat_minor": 0,
 "metadata": {
  "colab": {
   "provenance": [],
   "collapsed_sections": [],
   "authorship_tag": "ABX9TyPjh7q5lH0wOpQ2oRN7FZtN"
  },
  "kernelspec": {
   "name": "python3",
   "display_name": "Python 3"
  },
  "language_info": {
   "name": "python"
  },
  "accelerator": "GPU",
  "gpuClass": "standard"
 },
 "cells": [
  {
   "cell_type": "code",
   "execution_count": null,
   "metadata": {
    "id": "v435U7lnpttg"
   },
   "outputs": [],
   "source": [
    "import pandas as pd\n",
    "import numpy as np\n",
    "import os, time, sys\n",
    "\n",
    "import keras.layers as layers\n",
    "import keras.optimizers as optimizers\n",
    "from keras.models import Model, load_model\n",
    "from keras import layers\n",
    "from keras import models\n",
    "from keras.models import load_model\n",
    "\n",
    "from keras.datasets import mnist\n",
    "from tensorflow.keras.utils import to_categorical\n",
    "# from keras.utils import np_utils\n",
    "\n",
    "import matplotlib.pyplot as plt\n",
    "import ipywidgets"
   ]
  },
  {
   "cell_type": "code",
   "source": [
    "#구글 드라이브에 연결\n",
    "from google.colab import drive\n",
    "\n",
    "drive.mount('/content/gdrive/')"
   ],
   "metadata": {
    "id": "B0BI_csoqCXd"
   },
   "execution_count": null,
   "outputs": []
  },
  {
   "cell_type": "code",
   "source": [
    "#작업 폴더 이동\n",
    "os.chdir('/content/gdrive/My Drive/Colab Notebooks/urban_data_mining_23/08 CNN2/')\n",
    "os.listdir()\n",
    "# os.getcwd()"
   ],
   "metadata": {
    "id": "oPZX80JQqDEJ"
   },
   "execution_count": null,
   "outputs": []
  },
  {
   "cell_type": "code",
   "source": [
    "# https://keras.io/api/datasets/mnist/\n",
    "# 필기체 데이터 셋\n",
    "(mnist_training_x, mnist_training_y), (mnist_testing_x, mnist_testing_y) = mnist.load_data()\n",
    "assert mnist_training_x.shape == (60000, 28, 28)\n",
    "assert mnist_testing_x.shape == (10000, 28, 28)\n",
    "assert mnist_training_y.shape == (60000,)\n",
    "assert mnist_testing_y.shape == (10000,)\n"
   ],
   "metadata": {
    "id": "9-YCaPipuorg"
   },
   "execution_count": null,
   "outputs": []
  },
  {
   "cell_type": "code",
   "source": [
    "idx = 4\n",
    "plt.imshow(mnist_training_x[idx,:,:])\n",
    "plt.title(mnist_training_y[idx])\n",
    "plt.show()"
   ],
   "metadata": {
    "id": "Ft7iFr0nzUwI"
   },
   "execution_count": null,
   "outputs": []
  },
  {
   "cell_type": "code",
   "source": [
    "# LENET 모델\n",
    "# http://yann.lecun.com/exdb/publis/pdf/lecun-01a.pdf\n",
    "\n",
    "\n",
    "inputs = layers.Input(shape=(32, 32, 1))\n",
    "\n",
    "net = layers.Conv2D(6, kernel_size=5, strides=1, activation='tanh')(inputs)\n",
    "\n",
    "net = layers.AveragePooling2D(pool_size=2, strides=2)(net)\n",
    "\n",
    "# Combine Table이 있지만 구현하지 않음\n",
    "net = layers.Conv2D(16, kernel_size=5, strides=1, activation='tanh')(net)\n",
    "\n",
    "net = layers.AveragePooling2D(pool_size=2, strides=2)(net)\n",
    "\n",
    "#flatten 이 아니고 Conv 였음\n",
    "net = layers.Conv2D(120, kernel_size=5, strides=1, activation='tanh')(net)\n",
    "\n",
    "net = layers.Flatten()(net)\n",
    "\n",
    "net = layers.Dense(84, activation='tanh')(net)\n",
    "\n",
    "net = layers.Dense(10, activation='softmax')(net)\n",
    "\n",
    "\n",
    "model = Model(inputs=inputs, outputs=net)\n",
    "model.compile(\n",
    "    loss='categorical_crossentropy',\n",
    "    optimizer='adam',\n",
    "    metrics=['acc']\n",
    ")\n",
    "model.summary()"
   ],
   "metadata": {
    "id": "qxMtI3DG0LyZ"
   },
   "execution_count": null,
   "outputs": []
  },
  {
   "cell_type": "code",
   "source": [
    "# 28x28 mnist 이미지를 32x32 로 패딩 추가함\n",
    "training_x = np.pad(mnist_training_x, ((0,0),(2,2),(2,2)), 'constant', constant_values=0)\n",
    "training_x.shape"
   ],
   "metadata": {
    "id": "z_uA7KHR0DUh"
   },
   "execution_count": null,
   "outputs": []
  },
  {
   "cell_type": "code",
   "source": [
    "#y 값을 sofrmax 학습하기 위해 더미변환\n",
    "training_y = mnist_training_y.copy()\n",
    "training_y = to_categorical(training_y, 10)\n",
    "training_y.shape"
   ],
   "metadata": {
    "id": "LtI5H_Ad647b"
   },
   "execution_count": null,
   "outputs": []
  },
  {
   "cell_type": "code",
   "source": [
    "# y 값 확인\n",
    "print(mnist_training_y[0])\n",
    "print(training_y[0, :])"
   ],
   "metadata": {
    "id": "P8-YvEq09T3b"
   },
   "execution_count": null,
   "outputs": []
  },
  {
   "cell_type": "code",
   "source": [
    "#모델 학습한다.\n",
    "hist = model.fit(training_x, training_y, epochs=20, batch_size=128)"
   ],
   "metadata": {
    "id": "bX6sDd_w6Ykx",
    "colab": {
     "base_uri": "https://localhost:8080/"
    },
    "executionInfo": {
     "status": "ok",
     "timestamp": 1667142441069,
     "user_tz": -540,
     "elapsed": 40006,
     "user": {
      "displayName": "구름",
      "userId": "09983266874922425358"
     }
    },
    "outputId": "10789eda-b6bf-4f41-ef8c-ed3cc6d02ce0"
   },
   "execution_count": 64,
   "outputs": [
    {
     "output_type": "stream",
     "name": "stdout",
     "text": [
      "Epoch 1/20\n",
      "469/469 [==============================] - 2s 4ms/step - loss: 0.0028 - acc: 0.9991\n",
      "Epoch 2/20\n",
      "469/469 [==============================] - 2s 4ms/step - loss: 7.2708e-04 - acc: 0.9999\n",
      "Epoch 3/20\n",
      "469/469 [==============================] - 2s 4ms/step - loss: 3.3208e-04 - acc: 1.0000\n",
      "Epoch 4/20\n",
      "469/469 [==============================] - 2s 4ms/step - loss: 2.3291e-04 - acc: 1.0000\n",
      "Epoch 5/20\n",
      "469/469 [==============================] - 2s 4ms/step - loss: 1.8134e-04 - acc: 1.0000\n",
      "Epoch 6/20\n",
      "469/469 [==============================] - 2s 4ms/step - loss: 1.4879e-04 - acc: 1.0000\n",
      "Epoch 7/20\n",
      "469/469 [==============================] - 2s 4ms/step - loss: 1.2354e-04 - acc: 1.0000\n",
      "Epoch 8/20\n",
      "469/469 [==============================] - 2s 4ms/step - loss: 1.0320e-04 - acc: 1.0000\n",
      "Epoch 9/20\n",
      "469/469 [==============================] - 2s 4ms/step - loss: 8.6298e-05 - acc: 1.0000\n",
      "Epoch 10/20\n",
      "469/469 [==============================] - 2s 4ms/step - loss: 7.2666e-05 - acc: 1.0000\n",
      "Epoch 11/20\n",
      "469/469 [==============================] - 2s 4ms/step - loss: 6.1139e-05 - acc: 1.0000\n",
      "Epoch 12/20\n",
      "469/469 [==============================] - 2s 4ms/step - loss: 5.1346e-05 - acc: 1.0000\n",
      "Epoch 13/20\n",
      "469/469 [==============================] - 2s 4ms/step - loss: 4.2818e-05 - acc: 1.0000\n",
      "Epoch 14/20\n",
      "469/469 [==============================] - 2s 4ms/step - loss: 3.5743e-05 - acc: 1.0000\n",
      "Epoch 15/20\n",
      "469/469 [==============================] - 2s 4ms/step - loss: 2.9738e-05 - acc: 1.0000\n",
      "Epoch 16/20\n",
      "469/469 [==============================] - 2s 5ms/step - loss: 2.4560e-05 - acc: 1.0000\n",
      "Epoch 17/20\n",
      "469/469 [==============================] - 3s 5ms/step - loss: 2.0484e-05 - acc: 1.0000\n",
      "Epoch 18/20\n",
      "469/469 [==============================] - 2s 4ms/step - loss: 1.6811e-05 - acc: 1.0000\n",
      "Epoch 19/20\n",
      "469/469 [==============================] - 2s 4ms/step - loss: 1.3887e-05 - acc: 1.0000\n",
      "Epoch 20/20\n",
      "469/469 [==============================] - 2s 4ms/step - loss: 1.1343e-05 - acc: 1.0000\n"
     ]
    }
   ]
  },
  {
   "cell_type": "code",
   "source": [
    "# 테스트 데이터로 모델 검증한다.\n",
    "\n",
    "loss,accuracy= model.evaluate(training_x, training_y)\n",
    "print('training : loss = ' + str(loss) + ', accuracy = ' + str(accuracy))\n",
    "\n",
    "loss,accuracy= model.evaluate(testing_x, testing_y)\n",
    "print('testing : loss = ' + str(loss) + ', accuracy = ' + str(accuracy))"
   ],
   "metadata": {
    "id": "9neyu8nwTP5r"
   },
   "execution_count": null,
   "outputs": []
  },
  {
   "cell_type": "code",
   "source": [
    "# 테스트 데이터 추론하기\n",
    "testing_x = np.pad(mnist_testing_x, ((0,0),(2,2),(2,2)), 'constant', constant_values=0)\n",
    "\n",
    "testing_y = mnist_testing_y.copy()\n",
    "testing_y = to_categorical(testing_y, 10)\n",
    "\n",
    "predict_y = model.predict(testing_x)"
   ],
   "metadata": {
    "id": "t9Ivf6c_RbZt"
   },
   "execution_count": null,
   "outputs": []
  },
  {
   "cell_type": "code",
   "source": [
    "# 테스트 데이터 추론 결과 보기\n",
    "idx = 1\n",
    "\n",
    "plt.imshow(testing_x[idx, :, :])\n",
    "plt.title('real = ' + str(mnist_testing_y[idx]) + ', predict = ' + str(np.where(predict_y[0,:] == predict_y[0,:].max())[0][0]))\n",
    "plt.show()"
   ],
   "metadata": {
    "id": "XHYuFTNCR-6j"
   },
   "execution_count": null,
   "outputs": []
  },
  {
   "cell_type": "code",
   "source": [
    "#학습 내용 출력용 함수\n",
    "def diplay_result_layer(layer=0, idx = 0, f_map=0) :\n",
    "  global model, training_x, training_y, predict_y\n",
    "\n",
    "  new_model = Model(model.input,model.layers[layer].output) #각 층별로 레이어를 자른다\n",
    "  predict = new_model.predict(np.array([training_x[idx, :, :]])) #dataseq위치의 학습 데이터를 입력한다\n",
    "\n",
    "  dpi = 80\n",
    "  if f_map > predict.shape[3] : f_map =  predict.shape[3]\n",
    "  img = predict[0, :, :, f_map]\n",
    "\n",
    "  figsize = 500/float(dpi), 500/float(dpi)\n",
    "  fig = plt.figure(figsize=figsize)\n",
    "  plt.imshow(img, cmap='gray')\n",
    "  plt.title(model.get_layer(index=layer))\n",
    "  plt.show()"
   ],
   "metadata": {
    "id": "88zxxRUHG900"
   },
   "execution_count": null,
   "outputs": []
  },
  {
   "cell_type": "code",
   "source": [
    "#위젯을 이용하여  검증 결과 출력하기\n",
    "ipywidgets.interact(diplay_result_layer, layer=(0, 5, 1), f_map=(0,20,1), idx=(0, training_y.shape[0], 1) )"
   ],
   "metadata": {
    "id": "S7I03CxkMb8K"
   },
   "execution_count": null,
   "outputs": []
  },
  {
   "cell_type": "code",
   "source": [],
   "metadata": {
    "id": "4HTRJpRPQU23"
   },
   "execution_count": null,
   "outputs": []
  }
 ]
}
