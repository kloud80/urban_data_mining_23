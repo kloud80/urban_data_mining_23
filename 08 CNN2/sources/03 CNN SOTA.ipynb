{
 "nbformat": 4,
 "nbformat_minor": 0,
 "metadata": {
  "colab": {
   "provenance": [],
   "collapsed_sections": [],
   "authorship_tag": "ABX9TyNKy+f0tYpBcVMLhXW9a+Nx"
  },
  "kernelspec": {
   "name": "python3",
   "display_name": "Python 3"
  },
  "language_info": {
   "name": "python"
  },
  "accelerator": "GPU",
  "gpuClass": "standard"
 },
 "cells": [
  {
   "cell_type": "code",
   "execution_count": 59,
   "metadata": {
    "id": "25P_UqrtXFsT",
    "executionInfo": {
     "status": "ok",
     "timestamp": 1667145590770,
     "user_tz": -540,
     "elapsed": 2,
     "user": {
      "displayName": "구름",
      "userId": "09983266874922425358"
     }
    },
    "pycharm": {
     "name": "#%%\n"
    }
   },
   "outputs": [],
   "source": [
    "import pandas as pd\n",
    "import numpy as np\n",
    "import os, time, sys\n",
    "\n",
    "#케라스 사전 학습 모델 불러오기\n",
    "from keras.applications import VGG16, ResNet101, DenseNet121, EfficientNetB0\n",
    "from glob import glob\n",
    "from PIL import Image\n",
    "\n",
    "\n",
    "import matplotlib.pyplot as plt\n",
    "import ipywidgets"
   ]
  },
  {
   "cell_type": "code",
   "source": [
    "#구글 드라이브에 연결\n",
    "from google.colab import drive\n",
    "\n",
    "drive.mount('/content/gdrive/')"
   ],
   "metadata": {
    "id": "Fm3xK611XMqC",
    "pycharm": {
     "name": "#%%\n"
    }
   },
   "execution_count": null,
   "outputs": []
  },
  {
   "cell_type": "code",
   "source": [
    "#작업 폴더 이동\n",
    "os.chdir('/content/gdrive/My Drive/Colab Notebooks/urban_data_mining_23/07 CNN2/')\n",
    "os.listdir()\n",
    "# os.getcwd()"
   ],
   "metadata": {
    "id": "H49y7-JMXRmI",
    "pycharm": {
     "name": "#%%\n"
    }
   },
   "execution_count": null,
   "outputs": []
  },
  {
   "cell_type": "code",
   "source": [
    "#이미지넷 검증 이미지와 라벨링 정보 불러오기\n",
    "\n",
    "label = pd.read_csv('data/imagenet/Label.txt', sep='|').set_index('idx')\n",
    "print(label.shape)\n",
    "label.head(10)\n",
    "\n",
    "\n",
    "flist= glob('data/imagenet/*.JPEG')\n",
    "print(len(flist))"
   ],
   "metadata": {
    "id": "meW5ArdGfVS8",
    "pycharm": {
     "name": "#%%\n"
    }
   },
   "execution_count": null,
   "outputs": []
  },
  {
   "cell_type": "code",
   "source": [
    "# VGG16 모델 imagenet 사전학습된 가중치로 불러오기\n",
    "\n",
    "model = VGG16(include_top=True, weights='imagenet')\n",
    "model.summary()\n"
   ],
   "metadata": {
    "id": "C5Ku0_YmaRB-",
    "pycharm": {
     "name": "#%%\n"
    }
   },
   "execution_count": null,
   "outputs": []
  },
  {
   "cell_type": "code",
   "source": [
    "#학습 내용 출력용 함수\n",
    "def diplay_result(idx = 0) :\n",
    "  global model, flist\n",
    "\n",
    "  img = Image.open(flist[idx])\n",
    "  img = img.resize((224, 224), Image.LANCZOS)\n",
    "  img = np.array(img)\n",
    "\n",
    "  predict_y = model.predict(img[np.newaxis, :, :, :])\n",
    "\n",
    "  dpi = 80\n",
    "\n",
    "  figsize = 500/float(dpi), 500/float(dpi)\n",
    "  fig = plt.figure(figsize=figsize)\n",
    "  plt.imshow(img)\n",
    "  plt.title(label.iloc[np.where(predict_y == predict_y.max())[1][0]].values[0])\n",
    "  plt.show()"
   ],
   "metadata": {
    "id": "9XmToom7iER8",
    "executionInfo": {
     "status": "ok",
     "timestamp": 1667144621094,
     "user_tz": -540,
     "elapsed": 315,
     "user": {
      "displayName": "구름",
      "userId": "09983266874922425358"
     }
    },
    "pycharm": {
     "name": "#%%\n"
    }
   },
   "execution_count": 47,
   "outputs": []
  },
  {
   "cell_type": "code",
   "source": [
    "#위젯을 이용하여  검증 결과 출력하기\n",
    "ipywidgets.interact(diplay_result, idx=(0, len(flist), 1) )"
   ],
   "metadata": {
    "id": "aJi59dS2ijiK",
    "pycharm": {
     "name": "#%%\n"
    }
   },
   "execution_count": null,
   "outputs": []
  },
  {
   "cell_type": "code",
   "source": [
    "# ResNet101 모델 imagenet 사전학습된 가중치로 불러오기\n",
    "\n",
    "model = ResNet101(include_top=True, weights='imagenet')\n",
    "model.summary()\n"
   ],
   "metadata": {
    "id": "9I2vqNCakZeD",
    "pycharm": {
     "name": "#%%\n"
    }
   },
   "execution_count": null,
   "outputs": []
  },
  {
   "cell_type": "code",
   "source": [
    "#위젯을 이용하여  검증 결과 출력하기\n",
    "ipywidgets.interact(diplay_result, idx=(0, len(flist), 1) )"
   ],
   "metadata": {
    "id": "46wunjuKkicO",
    "pycharm": {
     "name": "#%%\n"
    }
   },
   "execution_count": null,
   "outputs": []
  },
  {
   "cell_type": "code",
   "source": [
    "# DenseNet121 모델 imagenet 사전학습된 가중치로 불러오기\n",
    "\n",
    "model = DenseNet121(include_top=True, weights='imagenet')\n",
    "model.summary()\n"
   ],
   "metadata": {
    "id": "0bsU_uetk2em",
    "pycharm": {
     "name": "#%%\n"
    }
   },
   "execution_count": null,
   "outputs": []
  },
  {
   "cell_type": "code",
   "source": [
    "#위젯을 이용하여  검증 결과 출력하기\n",
    "ipywidgets.interact(diplay_result, idx=(0, len(flist), 1) )"
   ],
   "metadata": {
    "id": "8FcF4QzHk_58",
    "pycharm": {
     "name": "#%%\n"
    }
   },
   "execution_count": null,
   "outputs": []
  },
  {
   "cell_type": "code",
   "source": [
    "\n",
    "# EfficientNetB0 모델 imagenet 사전학습된 가중치로 불러오기\n",
    "\n",
    "model = EfficientNetB0(include_top=True, weights='imagenet')\n",
    "model.summary()\n"
   ],
   "metadata": {
    "id": "t6CKphUrmmMZ",
    "pycharm": {
     "name": "#%%\n"
    }
   },
   "execution_count": null,
   "outputs": []
  },
  {
   "cell_type": "code",
   "source": [
    "#위젯을 이용하여  검증 결과 출력하기\n",
    "ipywidgets.interact(diplay_result, idx=(0, len(flist), 1) )\n"
   ],
   "metadata": {
    "id": "sc9lZZkOmucn",
    "pycharm": {
     "name": "#%%\n"
    }
   },
   "execution_count": null,
   "outputs": []
  }
 ]
}