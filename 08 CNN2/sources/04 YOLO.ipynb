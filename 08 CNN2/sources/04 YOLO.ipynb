{
 "nbformat": 4,
 "nbformat_minor": 0,
 "metadata": {
  "colab": {
   "provenance": [],
   "collapsed_sections": [],
   "authorship_tag": "ABX9TyOk7TQToh87xXdQxi8vPZdu"
  },
  "kernelspec": {
   "name": "python3",
   "display_name": "Python 3"
  },
  "language_info": {
   "name": "python"
  }
 },
 "cells": [
  {
   "cell_type": "code",
   "execution_count": null,
   "metadata": {
    "id": "Fb2N8bHstIKu",
    "pycharm": {
     "name": "#%%\n"
    }
   },
   "outputs": [],
   "source": [
    "#구글 드라이브에 연결\n",
    "from google.colab import drive\n",
    "\n",
    "drive.mount('/content/gdrive/')"
   ]
  },
  {
   "cell_type": "code",
   "source": [
    "#작업 폴더 이동\n",
    "import os\n",
    "\n",
    "#작업 폴더 이동\n",
    "os.chdir('/content/gdrive/My Drive/Colab Notebooks/urban_data_mining_23/08 CNN2/')\n",
    "os.listdir()\n",
    "# os.getcwd()"
   ],
   "metadata": {
    "id": "ETIsUJJAtI2v",
    "pycharm": {
     "name": "#%%\n"
    }
   },
   "execution_count": null,
   "outputs": []
  },
  {
   "cell_type": "code",
   "source": [
    "#yolov5 소스코드를 깃헙에서 다운\n",
    "!git clone https://github.com/ultralytics/yolov5  # clone\n",
    "os.chdir('yolov5/')\n",
    "!pip install -r requirements.txt  # install"
   ],
   "metadata": {
    "id": "JuQcdvPitTra",
    "pycharm": {
     "name": "#%%\n"
    }
   },
   "execution_count": null,
   "outputs": []
  },
  {
   "cell_type": "code",
   "source": [
    "#사전 학습 가중치를 다운로드\n",
    "\n",
    "!wget https://github.com/ultralytics/yolov5/releases/download/v5.0/yolov5s.pt\n"
   ],
   "metadata": {
    "id": "sjVTOpoZtrCn",
    "pycharm": {
     "name": "#%%\n"
    }
   },
   "execution_count": null,
   "outputs": []
  },
  {
   "cell_type": "code",
   "source": [
    "#라이브러리 다운\n",
    "\n",
    "import numpy as np\n",
    "from glob import glob\n",
    "from PIL import Image, ImageDraw\n",
    "import matplotlib.pyplot as plt\n",
    "import ipywidgets\n",
    "import json\n",
    "os.chdir('/content/gdrive/My Drive/Colab Notebooks/urban_data_mining_23/07 CNN2/')"
   ],
   "metadata": {
    "id": "QaAY5N7-xg5v",
    "executionInfo": {
     "status": "ok",
     "timestamp": 1667150114727,
     "user_tz": -540,
     "elapsed": 400,
     "user": {
      "displayName": "구름",
      "userId": "09983266874922425358"
     }
    },
    "pycharm": {
     "name": "#%%\n"
    }
   },
   "execution_count": 69,
   "outputs": []
  },
  {
   "cell_type": "code",
   "source": [
    "#ai hub 학습 데이터 불러오기 (일부만)\n",
    "\n",
    "flist = glob('data/traffic/*.jpg')\n",
    "\n",
    "\n",
    "with open('data/traffic/웨스턴파크 (부천역전우체국 건너편)_BC2000102.json', 'r') as f:\n",
    "    json_data = json.load(f)\n",
    "\n",
    "len(json_data['images'])"
   ],
   "metadata": {
    "id": "VjusQTMLy6X5",
    "pycharm": {
     "name": "#%%\n"
    }
   },
   "execution_count": null,
   "outputs": []
  },
  {
   "cell_type": "code",
   "source": [
    "#ai hub 학습 데이터 annotation 박스 출력용 함수\n",
    "def diplay_labeling_data(idx=0):\n",
    "  global flist\n",
    "  img = Image.open(flist[idx])\n",
    "\n",
    "\n",
    "  img_id = list(filter(lambda x:x[\"file_name\"]=='BC2000102/' + flist[idx].split('/')[-1],json_data['images']))[0]['id']\n",
    "  annotation = list(filter(lambda x:x[\"id\"]==img_id,json_data['annotations']))\n",
    "\n",
    "  for bbox in annotation[0]['bbox']:\n",
    "    draw = ImageDraw.Draw(img)\n",
    "    draw.rectangle(bbox, outline=(0,255,0), width = 3)\n",
    "\n",
    "  img = np.array(img)\n",
    "  plt.figure(figsize=(img.shape[1]/100, img.shape[0]/100))\n",
    "  plt.imshow(img)\n",
    "  print(annotation[0]['category_id'])"
   ],
   "metadata": {
    "id": "M6oNL4Tizqwl",
    "executionInfo": {
     "status": "ok",
     "timestamp": 1667150327394,
     "user_tz": -540,
     "elapsed": 397,
     "user": {
      "displayName": "구름",
      "userId": "09983266874922425358"
     }
    },
    "pycharm": {
     "name": "#%%\n"
    }
   },
   "execution_count": 76,
   "outputs": []
  },
  {
   "cell_type": "code",
   "source": [
    "# 라벨링 데이터 확인하기\n",
    "ipywidgets.interact(diplay_labeling_data, idx=(0, len(flist)-1, 1) )"
   ],
   "metadata": {
    "id": "Jffxjar75zFo",
    "pycharm": {
     "name": "#%%\n"
    }
   },
   "execution_count": null,
   "outputs": []
  },
  {
   "cell_type": "code",
   "source": [
    "# yolo v5 로 검출하기\n",
    "\n",
    "os.chdir('/content/gdrive/My Drive/Colab Notebooks/urban_data_mining_23/07 CNN2/')\n",
    "\n",
    "!python yolov5/detect.py --weights yolov5/yolov5s.pt --img 1920 --conf 0.5 --source data/traffic"
   ],
   "metadata": {
    "id": "WmSvwMSBvuFu",
    "pycharm": {
     "name": "#%%\n"
    }
   },
   "execution_count": null,
   "outputs": []
  },
  {
   "cell_type": "code",
   "source": [
    "# yolo v5 로 검출 결과 이미지 리스트 불러오기\n",
    "flist = glob('yolov5/runs/detect/exp2/*')"
   ],
   "metadata": {
    "id": "YwZB1WTRy5HL",
    "pycharm": {
     "name": "#%%\n"
    }
   },
   "execution_count": null,
   "outputs": []
  },
  {
   "cell_type": "code",
   "source": [
    "#yolo 검출 결과 출력용 함수\n",
    "def display_yolo_result(idx=0):\n",
    "  global flist\n",
    "  img = Image.open(flist[idx])\n",
    "  img = np.array(img)\n",
    "\n",
    "\n",
    "  plt.figure(figsize=(img.shape[1]/100, img.shape[0]/100))\n",
    "  plt.imshow(img)\n",
    "  plt.show()"
   ],
   "metadata": {
    "id": "-6A5tEdHx3_u",
    "executionInfo": {
     "status": "ok",
     "timestamp": 1667150520703,
     "user_tz": -540,
     "elapsed": 415,
     "user": {
      "displayName": "구름",
      "userId": "09983266874922425358"
     }
    },
    "pycharm": {
     "name": "#%%\n"
    }
   },
   "execution_count": 87,
   "outputs": []
  },
  {
   "cell_type": "code",
   "source": [
    "#위젯을 이용하여  검증 결과 출력하기\n",
    "ipywidgets.interact(display_yolo_result, idx=(0, len(flist)-1, 1) )\n"
   ],
   "metadata": {
    "id": "bcB9Cm2lyGL_",
    "pycharm": {
     "name": "#%%\n"
    }
   },
   "execution_count": null,
   "outputs": []
  }
 ]
}
