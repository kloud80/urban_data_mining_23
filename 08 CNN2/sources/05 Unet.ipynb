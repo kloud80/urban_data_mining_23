{
 "nbformat": 4,
 "nbformat_minor": 0,
 "metadata": {
  "accelerator": "GPU",
  "colab": {
   "provenance": [
    {
     "file_id": "1JY4sPDLLDxKNYtvicdwUnDMi3HtQYPsy",
     "timestamp": 1637110245096
    }
   ],
   "collapsed_sections": [],
   "authorship_tag": "ABX9TyPCjFxLbz1QHCQEUwZ2JFhz"
  },
  "kernelspec": {
   "display_name": "Python 3",
   "name": "python3"
  },
  "language_info": {
   "name": "python"
  },
  "gpuClass": "standard"
 },
 "cells": [
  {
   "cell_type": "code",
   "metadata": {
    "id": "2e04SSlOq0HB"
   },
   "source": [
    "#raster image file 읽기 위한 라이브러리\n",
    "!pip install imagecodecs\n",
    "!pip install tifffile"
   ],
   "execution_count": null,
   "outputs": []
  },
  {
   "cell_type": "code",
   "metadata": {
    "id": "MN6imRDfpCcC",
    "executionInfo": {
     "status": "ok",
     "timestamp": 1667307874617,
     "user_tz": -540,
     "elapsed": 4003,
     "user": {
      "displayName": "구름",
      "userId": "09983266874922425358"
     }
    }
   },
   "source": [
    "\n",
    "import os\n",
    "import sys\n",
    "import random\n",
    "import warnings\n",
    "from glob import glob\n",
    "\n",
    "import numpy as np\n",
    "import pandas as pd\n",
    "\n",
    "import matplotlib.pyplot as plt\n",
    "\n",
    "from tqdm import tqdm\n",
    "from itertools import chain\n",
    "from skimage.io import imread, imshow, imread_collection, concatenate_images\n",
    "from skimage.transform import resize\n",
    "from skimage.morphology import label\n",
    "\n",
    "from keras.models import Model, load_model\n",
    "from keras.layers import Input\n",
    "from keras.layers import Dropout, Lambda\n",
    "from keras.layers import Conv2D, Conv2DTranspose\n",
    "from keras.layers import MaxPooling2D\n",
    "from keras.layers import concatenate\n",
    "from keras.callbacks import EarlyStopping, ModelCheckpoint\n",
    "from keras import backend as K\n",
    "from keras.models import load_model\n",
    "\n",
    "import tensorflow as tf\n",
    "\n",
    "from PIL import Image\n",
    "\n",
    "import matplotlib.pyplot as plt\n",
    "\n",
    "\n",
    "#from keras_unet.models import vanilla_unet\n",
    "\n",
    "\n",
    "import tifffile as tiff\n",
    "import ipywidgets\n",
    "\n"
   ],
   "execution_count": 2,
   "outputs": []
  },
  {
   "cell_type": "code",
   "source": [
    "#구글 드라이브에 연결\n",
    "from google.colab import drive\n",
    "\n",
    "drive.mount('/content/gdrive/')"
   ],
   "metadata": {
    "colab": {
     "base_uri": "https://localhost:8080/"
    },
    "id": "atMzYbGMEZGn",
    "executionInfo": {
     "status": "ok",
     "timestamp": 1667307895694,
     "user_tz": -540,
     "elapsed": 21087,
     "user": {
      "displayName": "구름",
      "userId": "09983266874922425358"
     }
    },
    "outputId": "6933f267-58a8-4f96-873c-4a28f49b8dc1"
   },
   "execution_count": 3,
   "outputs": [
    {
     "output_type": "stream",
     "name": "stdout",
     "text": [
      "Mounted at /content/gdrive/\n"
     ]
    }
   ]
  },
  {
   "cell_type": "code",
   "metadata": {
    "id": "dJ56RDz3LeMf",
    "colab": {
     "base_uri": "https://localhost:8080/"
    },
    "executionInfo": {
     "status": "ok",
     "timestamp": 1667307896107,
     "user_tz": -540,
     "elapsed": 415,
     "user": {
      "displayName": "구름",
      "userId": "09983266874922425358"
     }
    },
    "outputId": "75d4001d-bf7c-46ab-eef7-812f207bd8f3"
   },
   "source": [
    "#작업 폴더 이동\n",
    "os.chdir('/content/gdrive/My Drive/Colab Notebooks/urban-data-mining/08 CNN 2/')\n",
    "os.listdir()\n",
    "# os.getcwd()"
   ],
   "execution_count": 4,
   "outputs": [
    {
     "output_type": "execute_result",
     "data": {
      "text/plain": [
       "['sources', 'data', 'model-unet.h5']"
      ]
     },
     "metadata": {},
     "execution_count": 4
    }
   ]
  },
  {
   "cell_type": "code",
   "metadata": {
    "id": "2D6k8-ZepWD7",
    "executionInfo": {
     "status": "ok",
     "timestamp": 1667307896107,
     "user_tz": -540,
     "elapsed": 4,
     "user": {
      "displayName": "구름",
      "userId": "09983266874922425358"
     }
    }
   },
   "source": [
    "\n",
    "def imgshow(img, dpi = 80):\n",
    "    figsize = 500/float(dpi), 500/float(dpi)\n",
    "    fig = plt.figure(figsize=figsize)\n",
    "    plt.imshow(img)\n",
    "    plt.show()"
   ],
   "execution_count": 5,
   "outputs": []
  },
  {
   "cell_type": "code",
   "metadata": {
    "id": "vr8v-HmppY_7",
    "colab": {
     "base_uri": "https://localhost:8080/",
     "height": 36
    },
    "executionInfo": {
     "status": "ok",
     "timestamp": 1667307901804,
     "user_tz": -540,
     "elapsed": 5700,
     "user": {
      "displayName": "구름",
      "userId": "09983266874922425358"
     }
    },
    "outputId": "7aec1597-ca94-405c-e9e2-01b56090ca02"
   },
   "source": [
    "\n",
    "원천= glob('data/unet/img/*')\n",
    "\n",
    "\n",
    "training_x = []\n",
    "for img in 원천[:]:\n",
    "    img = Image.open(img)\n",
    "    img = np.array(img)\n",
    "    training_x.append(img)\n",
    "training_x = np.array(training_x)\n",
    "\n",
    "원천[0]"
   ],
   "execution_count": 6,
   "outputs": [
    {
     "output_type": "execute_result",
     "data": {
      "text/plain": [
       "'data/unet/img/LC_AP_37706043_001.tif'"
      ],
      "application/vnd.google.colaboratory.intrinsic+json": {
       "type": "string"
      }
     },
     "metadata": {},
     "execution_count": 6
    }
   ]
  },
  {
   "cell_type": "code",
   "metadata": {
    "id": "Y0CRKh52sK7A"
   },
   "source": [
    "print(training_x.shape)\n",
    "\n",
    "imgshow(training_x[0,:,:,:])"
   ],
   "execution_count": null,
   "outputs": []
  },
  {
   "cell_type": "code",
   "source": [
    "검증 = glob('data/unet/val/*')\n",
    "\n",
    "\n",
    "val_x = []\n",
    "for img in 검증[:]:\n",
    "    img = Image.open(img)\n",
    "    img = np.array(img)\n",
    "    val_x.append(img)\n",
    "val_x = np.array(val_x)\n",
    "\n",
    "plt.imshow(val_x[0,:,:])"
   ],
   "metadata": {
    "id": "9NcdqQfrRHV9"
   },
   "execution_count": null,
   "outputs": []
  },
  {
   "cell_type": "code",
   "metadata": {
    "id": "0vkmSpbSptP9",
    "executionInfo": {
     "status": "ok",
     "timestamp": 1667307948404,
     "user_tz": -540,
     "elapsed": 44389,
     "user": {
      "displayName": "구름",
      "userId": "09983266874922425358"
     }
    }
   },
   "source": [
    "# 라벨 = glob('data/unet/val/*')\n",
    "\n",
    "\n",
    "training_y = []\n",
    "for tif in 원천[:]:\n",
    "    tif = 'data/unet/tif/' + tif.split('/')[3].split('.')[0] + '_FGT.tif'\n",
    "    tif = tiff.imread(tif)\n",
    "    tif = np.array(tif)\n",
    "    training_y.append(tif)\n",
    "\n",
    "training_y = np.array(training_y)\n",
    "training_y = training_y[:, :, :, np.newaxis]\n"
   ],
   "execution_count": 9,
   "outputs": []
  },
  {
   "cell_type": "code",
   "source": [
    "def display_data(idx=0):\n",
    "  plt.figure(figsize=(15, 15))\n",
    "\n",
    "  display_list = [training_x[idx, :, : ,:], training_y[idx, :, : ,0]]\n",
    "  title = ['Input Image', 'output Tiff']\n",
    "\n",
    "  for i in range(2):\n",
    "    plt.subplot(1, 2, i+1)\n",
    "    plt.title(title[i])\n",
    "    plt.imshow(display_list[i])\n",
    "    plt.axis('off')\n"
   ],
   "metadata": {
    "id": "dX6ljCR3Nhx_",
    "executionInfo": {
     "status": "ok",
     "timestamp": 1667307948407,
     "user_tz": -540,
     "elapsed": 11,
     "user": {
      "displayName": "구름",
      "userId": "09983266874922425358"
     }
    }
   },
   "execution_count": 10,
   "outputs": []
  },
  {
   "cell_type": "code",
   "source": [
    "#위젯을 이용하여  검증 결과 출력하기\n",
    "ipywidgets.interact(display_data, idx=(0, training_x.shape[0], 1) )"
   ],
   "metadata": {
    "id": "m6848SBLNuNb"
   },
   "execution_count": null,
   "outputs": []
  },
  {
   "cell_type": "markdown",
   "source": [
    "#TIFF 이미지 값 의미\n",
    "*   10\t건물\n",
    "*   20\t주차장\n",
    "*   30\t도로\n",
    "*   40\t가로수\n",
    "* 50\t논\n",
    "* 60\t밭\n",
    "* 70\t산림\n",
    "* 80\t나지\n",
    "* 100\t비대상지"
   ],
   "metadata": {
    "id": "3rZ7UaikIXwE"
   }
  },
  {
   "cell_type": "code",
   "metadata": {
    "id": "Nyl_DWoNsFsk"
   },
   "source": [
    "print(training_y.shape)\n",
    "imgshow(training_y[0,:,:,0])\n"
   ],
   "execution_count": null,
   "outputs": []
  },
  {
   "cell_type": "code",
   "metadata": {
    "id": "tACgBn2Uwo9Y"
   },
   "source": [
    "training_y[0,:,:,0]"
   ],
   "execution_count": null,
   "outputs": []
  },
  {
   "cell_type": "code",
   "metadata": {
    "id": "FalN9HhDsM_M"
   },
   "source": [
    "#건물만 제외하고 삭제\n",
    "training_y[np.where(training_y != 10)] = 0\n",
    "training_y[np.where(training_y == 10)] = 1\n",
    "\n",
    "print(training_y.shape)\n",
    "imgshow(training_y[0,:,:,0])\n"
   ],
   "execution_count": null,
   "outputs": []
  },
  {
   "cell_type": "code",
   "metadata": {
    "id": "563Vqq7etCjA"
   },
   "source": [
    "\n",
    "\n",
    "inputs = Input((512, 512, 3))\n",
    "s = Lambda(lambda x: x / 255) (inputs)\n",
    "\n",
    "c1 = Conv2D(16, (3, 3), activation='elu', kernel_initializer='he_normal', padding='same') (s)\n",
    "c1 = Dropout(0.1) (c1)\n",
    "c1 = Conv2D(16, (3, 3), activation='elu', kernel_initializer='he_normal', padding='same') (c1)\n",
    "p1 = MaxPooling2D((2, 2)) (c1)\n",
    "\n",
    "c2 = Conv2D(32, (3, 3), activation='elu', kernel_initializer='he_normal', padding='same') (p1)\n",
    "c2 = Dropout(0.1) (c2)\n",
    "c2 = Conv2D(32, (3, 3), activation='elu', kernel_initializer='he_normal', padding='same') (c2)\n",
    "p2 = MaxPooling2D((2, 2)) (c2)\n",
    "\n",
    "c3 = Conv2D(64, (3, 3), activation='elu', kernel_initializer='he_normal', padding='same') (p2)\n",
    "c3 = Dropout(0.2) (c3)\n",
    "c3 = Conv2D(64, (3, 3), activation='elu', kernel_initializer='he_normal', padding='same') (c3)\n",
    "p3 = MaxPooling2D((2, 2)) (c3)\n",
    "\n",
    "c4 = Conv2D(128, (3, 3), activation='elu', kernel_initializer='he_normal', padding='same') (p3)\n",
    "c4 = Dropout(0.2) (c4)\n",
    "c4 = Conv2D(128, (3, 3), activation='elu', kernel_initializer='he_normal', padding='same') (c4)\n",
    "p4 = MaxPooling2D(pool_size=(2, 2)) (c4)\n",
    "\n",
    "c5 = Conv2D(256, (3, 3), activation='elu', kernel_initializer='he_normal', padding='same') (p4)\n",
    "c5 = Dropout(0.3) (c5)\n",
    "c5 = Conv2D(256, (3, 3), activation='elu', kernel_initializer='he_normal', padding='same') (c5)\n",
    "\n",
    "u6 = Conv2DTranspose(128, (2, 2), strides=(2, 2), padding='same') (c5)\n",
    "u6 = concatenate([u6, c4])\n",
    "c6 = Conv2D(128, (3, 3), activation='elu', kernel_initializer='he_normal', padding='same') (u6)\n",
    "c6 = Dropout(0.2) (c6)\n",
    "c6 = Conv2D(128, (3, 3), activation='elu', kernel_initializer='he_normal', padding='same') (c6)\n",
    "\n",
    "u7 = Conv2DTranspose(64, (2, 2), strides=(2, 2), padding='same') (c6)\n",
    "u7 = concatenate([u7, c3])\n",
    "c7 = Conv2D(64, (3, 3), activation='elu', kernel_initializer='he_normal', padding='same') (u7)\n",
    "c7 = Dropout(0.2) (c7)\n",
    "c7 = Conv2D(64, (3, 3), activation='elu', kernel_initializer='he_normal', padding='same') (c7)\n",
    "\n",
    "u8 = Conv2DTranspose(32, (2, 2), strides=(2, 2), padding='same') (c7)\n",
    "u8 = concatenate([u8, c2])\n",
    "c8 = Conv2D(32, (3, 3), activation='elu', kernel_initializer='he_normal', padding='same') (u8)\n",
    "c8 = Dropout(0.1) (c8)\n",
    "c8 = Conv2D(32, (3, 3), activation='elu', kernel_initializer='he_normal', padding='same') (c8)\n",
    "\n",
    "u9 = Conv2DTranspose(16, (2, 2), strides=(2, 2), padding='same') (c8)\n",
    "u9 = concatenate([u9, c1], axis=3)\n",
    "c9 = Conv2D(16, (3, 3), activation='elu', kernel_initializer='he_normal', padding='same') (u9)\n",
    "c9 = Dropout(0.1) (c9)\n",
    "c9 = Conv2D(16, (3, 3), activation='elu', kernel_initializer='he_normal', padding='same') (c9)\n",
    "\n",
    "outputs = Conv2D(1, (1, 1), activation='sigmoid') (c9)\n",
    "\n",
    "model = Model(inputs=[inputs], outputs=[outputs])\n",
    "model.compile(optimizer='adam', loss='binary_crossentropy', metrics='acc')\n",
    "model.summary()\n"
   ],
   "execution_count": null,
   "outputs": []
  },
  {
   "cell_type": "code",
   "metadata": {
    "id": "JtyWmMKB6NBl"
   },
   "source": [
    "model = load_model('data/unet/model-unet.h5')\n",
    "model.summary()"
   ],
   "execution_count": null,
   "outputs": []
  },
  {
   "cell_type": "code",
   "metadata": {
    "id": "8ZX3EWZpMdUQ"
   },
   "source": [
    "\n",
    "#earlystopper = EarlyStopping(patience=20, verbose=1)\n",
    "checkpointer = ModelCheckpoint('model-unet.h5', verbose=1, save_best_only=True)\n",
    "results = model.fit(training_x, training_y, validation_split=0.1, batch_size=16, epochs=100,\n",
    "                    callbacks=[ checkpointer]) #earlystopper,\n",
    "# model.save('unet.h5')"
   ],
   "execution_count": null,
   "outputs": []
  },
  {
   "cell_type": "code",
   "metadata": {
    "id": "SKswLhblgulo",
    "executionInfo": {
     "status": "ok",
     "timestamp": 1667310371142,
     "user_tz": -540,
     "elapsed": 297,
     "user": {
      "displayName": "구름",
      "userId": "09983266874922425358"
     }
    }
   },
   "source": [
    "\n",
    "def display_result(idx=0):\n",
    "  predy = model.predict(training_x[idx:idx+1,:,:,:])\n",
    "\n",
    "  predy[np.where(predy < 0.5)] = 0\n",
    "  predy[np.where(predy >= 0.5)] = 1\n",
    "\n",
    "\n",
    "  plt.figure(figsize=(15, 15))\n",
    "\n",
    "  display_list = [training_x[idx, :, : ,:], predy[0, :, : ,0], training_y[idx, :, : ,0]]\n",
    "  title = ['Input Image', 'Predicted Image', 'Ground Truth']\n",
    "\n",
    "  for i in range(3):\n",
    "    plt.subplot(1, 3, i+1)\n",
    "    plt.title(title[i])\n",
    "    # Getting the pixel values in the [0, 1] range to plot.\n",
    "    plt.imshow(display_list[i])\n",
    "    plt.axis('off')\n"
   ],
   "execution_count": 73,
   "outputs": []
  },
  {
   "cell_type": "code",
   "metadata": {
    "id": "5UppnNsshkV5"
   },
   "source": [
    "#위젯을 이용하여  검증 결과 출력하기\n",
    "ipywidgets.interact(display_result, idx=(0, training_x.shape[0], 1) )"
   ],
   "execution_count": null,
   "outputs": []
  },
  {
   "cell_type": "code",
   "source": [
    "\n",
    "def display_validation(idx=0, type =0):\n",
    "  predy = model.predict(val_x[idx:idx+1,:,:,:])\n",
    "\n",
    "  predy[np.where(predy < 0.5)] = 0\n",
    "  predy[np.where(predy >= 0.5)] = 1\n",
    "\n",
    "\n",
    "  plt.figure(figsize=(15, 15))\n",
    "\n",
    "  if type == 0 :\n",
    "    display_list = [val_x[idx, :, : ,:], predy[0, :, : ,0]]\n",
    "    title = ['Input Image', 'Predicted Image']\n",
    "\n",
    "    for i in range(2):\n",
    "      plt.subplot(1, 2, i+1)\n",
    "      plt.title(title[i])\n",
    "      # Getting the pixel values in the [0, 1] range to plot.\n",
    "      plt.imshow(display_list[i])\n",
    "      plt.axis('off')\n",
    "  else:\n",
    "    ret = val_x[idx,:,:,:].copy()\n",
    "\n",
    "    plt.figure(figsize=(15, 15))\n",
    "\n",
    "    ret[ :, : ,0] = ret[ :, : ,0] + predy[0, :, : ,0] * 100\n",
    "    ret[ :, : ,1] = ret[ :, : ,1] - predy[0, :, : ,0] * 100\n",
    "    ret[ :, : ,2] = ret[ :, : ,2] - predy[0, :, : ,0] * 100\n",
    "\n",
    "    ret[np.where(ret > 255)] = 255\n",
    "    ret[np.where(ret < 0 )] = 0\n",
    "\n",
    "    plt.imshow(ret)\n",
    "    plt.axis('off')\n"
   ],
   "metadata": {
    "id": "u3kAK9txTJVX",
    "executionInfo": {
     "status": "ok",
     "timestamp": 1667310256672,
     "user_tz": -540,
     "elapsed": 341,
     "user": {
      "displayName": "구름",
      "userId": "09983266874922425358"
     }
    }
   },
   "execution_count": 70,
   "outputs": []
  },
  {
   "cell_type": "code",
   "source": [
    "#위젯을 이용하여  검증 결과 출력하기\n",
    "ipywidgets.interact(display_validation, idx=(0, val_x.shape[0], 1), type=(0,1,1))\n"
   ],
   "metadata": {
    "id": "3A2PcnKCTZwI"
   },
   "execution_count": null,
   "outputs": []
  }
 ]
}
