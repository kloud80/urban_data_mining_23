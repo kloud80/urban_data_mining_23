{
 "nbformat": 4,
 "nbformat_minor": 0,
 "metadata": {
  "colab": {
   "provenance": [],
   "collapsed_sections": [],
   "authorship_tag": "ABX9TyPePbRRGd1VhuOyOjkomVQ+"
  },
  "kernelspec": {
   "name": "python3",
   "display_name": "Python 3"
  },
  "language_info": {
   "name": "python"
  }
 },
 "cells": [
  {
   "cell_type": "code",
   "source": [
    "#구글 드라이브에 연결\n",
    "import os\n",
    "from google.colab import drive\n",
    "\n",
    "drive.mount('/content/gdrive/')"
   ],
   "metadata": {
    "id": "YwGk7dNV9Oyj",
    "pycharm": {
     "name": "#%%\n"
    }
   },
   "execution_count": null,
   "outputs": []
  },
  {
   "cell_type": "code",
   "source": [
    "#작업 폴더 이동\n",
    "os.chdir('/content/gdrive/My Drive/Colab Notebooks/urban_data_mining_23/09 GenAI Image/')\n",
    "os.listdir()\n",
    "# os.getcwd()"
   ],
   "metadata": {
    "id": "jVsHSSPN9b2f",
    "pycharm": {
     "name": "#%%\n"
    }
   },
   "execution_count": null,
   "outputs": []
  },
  {
   "cell_type": "code",
   "execution_count": null,
   "metadata": {
    "id": "EvLP0I948ger",
    "pycharm": {
     "name": "#%%\n"
    }
   },
   "outputs": [],
   "source": [
    "!bash 'download.sh' 'https://www.dropbox.com/scl/fi/ubhq1vmrhxspfbyzlsx7b/data.zip?rlkey=swgdt3c5h0utbfi1gsgxmi4xl&dl=0'"
   ]
  }
 ]
}
