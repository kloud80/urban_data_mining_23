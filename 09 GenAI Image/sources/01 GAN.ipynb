{
 "cells": [
  {
   "cell_type": "code",
   "execution_count": null,
   "metadata": {
    "id": "lxQ3E_Z6t9cN",
    "executionInfo": {
     "status": "ok",
     "timestamp": 1667194887613,
     "user_tz": -540,
     "elapsed": 2519,
     "user": {
      "displayName": "구름",
      "userId": "09983266874922425358"
     }
    }
   },
   "outputs": [],
   "source": [
    "# https://www.tensorflow.org/tutorials/generative/dcgan?hl=ko&authuser=1\n",
    "# tensorflow 예시\n",
    "\n",
    "import numpy as np\n",
    "import pandas as pd\n",
    "import os \n",
    "import time\n",
    "from PIL import Image\n",
    "\n",
    "import matplotlib.pyplot as plt\n",
    "\n",
    "import keras.layers as layers\n",
    "import keras.optimizers as optimizers\n",
    "from keras.models import Model, load_model\n",
    "from keras import layers\n",
    "from keras import models\n",
    "from keras.models import load_model\n",
    "\n",
    "from IPython import display\n",
    "\n",
    "import tensorflow as tf\n"
   ]
  },
  {
   "cell_type": "code",
   "execution_count": null,
   "metadata": {
    "colab": {
     "base_uri": "https://localhost:8080/"
    },
    "executionInfo": {
     "elapsed": 19565,
     "status": "ok",
     "timestamp": 1667194907175,
     "user": {
      "displayName": "구름",
      "userId": "09983266874922425358"
     },
     "user_tz": -540
    },
    "id": "ZvI2zK5zGIHs",
    "outputId": "43ef318d-167e-4270-dfd6-4044211ade2d"
   },
   "outputs": [],
   "source": [
    "#구글 드라이브에 연결\n",
    "from google.colab import drive\n",
    "\n",
    "drive.mount('/content/gdrive/')"
   ]
  },
  {
   "cell_type": "code",
   "execution_count": null,
   "metadata": {
    "colab": {
     "base_uri": "https://localhost:8080/"
    },
    "executionInfo": {
     "elapsed": 1009,
     "status": "ok",
     "timestamp": 1667194908182,
     "user": {
      "displayName": "구름",
      "userId": "09983266874922425358"
     },
     "user_tz": -540
    },
    "id": "RyxqwD1KGJMs",
    "outputId": "bbd798f8-2813-4b36-e3d8-b4e4494a7833"
   },
   "outputs": [],
   "source": [
    "#작업 폴더 이동\n",
    "os.chdir('/content/gdrive/My Drive/Colab Notebooks/urban_data_mining_23/09 GenAI Image/')\n",
    "os.listdir()\n",
    "# os.getcwd()"
   ]
  },
  {
   "cell_type": "code",
   "execution_count": null,
   "metadata": {
    "colab": {
     "base_uri": "https://localhost:8080/"
    },
    "executionInfo": {
     "elapsed": 755,
     "status": "ok",
     "timestamp": 1667194908934,
     "user": {
      "displayName": "구름",
      "userId": "09983266874922425358"
     },
     "user_tz": -540
    },
    "id": "rmy_mnO57lzU",
    "outputId": "247af9c1-3874-4e43-f984-f9caf0857804"
   },
   "outputs": [],
   "source": [
    "\"\"\"mnist GAN 학습하기\"\"\"\n",
    "\n",
    "(train_images, train_labels), (_, _) = tf.keras.datasets.mnist.load_data()\n",
    "train_images = train_images.reshape(train_images.shape[0], 28, 28, 1).astype('float32')\n",
    "train_images = (train_images - 127.5) / 127.5 # 이미지를 [-1, 1]로 정규화합니다."
   ]
  },
  {
   "cell_type": "code",
   "execution_count": null,
   "metadata": {
    "id": "aAD3yrjLyTBi",
    "executionInfo": {
     "status": "ok",
     "timestamp": 1667194911166,
     "user_tz": -540,
     "elapsed": 2233,
     "user": {
      "displayName": "구름",
      "userId": "09983266874922425358"
     }
    }
   },
   "outputs": [],
   "source": [
    "BUFFER_SIZE = 60000\n",
    "BATCH_SIZE = 256\n",
    "# 데이터 배치를 만들고 섞습니다.\n",
    "train_dataset = tf.data.Dataset.from_tensor_slices(train_images).shuffle(BUFFER_SIZE).batch(BATCH_SIZE)"
   ]
  },
  {
   "cell_type": "code",
   "execution_count": null,
   "metadata": {
    "colab": {
     "base_uri": "https://localhost:8080/"
    },
    "executionInfo": {
     "elapsed": 6,
     "status": "ok",
     "timestamp": 1667194911166,
     "user": {
      "displayName": "구름",
      "userId": "09983266874922425358"
     },
     "user_tz": -540
    },
    "id": "5auO_cxG0b1u",
    "outputId": "6ddef903-b5b9-490b-f002-472bf332bfaf"
   },
   "outputs": [],
   "source": [
    "train_images.shape\n",
    "print(train_dataset)"
   ]
  },
  {
   "cell_type": "code",
   "execution_count": null,
   "metadata": {
    "id": "61iiJanD-I9j",
    "executionInfo": {
     "status": "ok",
     "timestamp": 1667194911166,
     "user_tz": -540,
     "elapsed": 5,
     "user": {
      "displayName": "구름",
      "userId": "09983266874922425358"
     }
    }
   },
   "outputs": [],
   "source": [
    "def make_generator_model():\n",
    "    model = tf.keras.Sequential()\n",
    "    model.add(layers.Dense(7*7*256, use_bias=False, input_shape=(100,)))\n",
    "    model.add(layers.BatchNormalization())\n",
    "    model.add(layers.LeakyReLU())\n",
    "\n",
    "    model.add(layers.Reshape((7, 7, 256)))\n",
    "    assert model.output_shape == (None, 7, 7, 256) # 주목: 배치사이즈로 None이 주어집니다.\n",
    "\n",
    "    model.add(layers.Conv2DTranspose(128, (5, 5), strides=(1, 1), padding='same', use_bias=False))\n",
    "    assert model.output_shape == (None, 7, 7, 128)\n",
    "    model.add(layers.BatchNormalization())\n",
    "    model.add(layers.LeakyReLU())\n",
    "\n",
    "    model.add(layers.Conv2DTranspose(64, (5, 5), strides=(2, 2), padding='same', use_bias=False))\n",
    "    assert model.output_shape == (None, 14, 14, 64)\n",
    "    model.add(layers.BatchNormalization())\n",
    "    model.add(layers.LeakyReLU())\n",
    "\n",
    "    model.add(layers.Conv2DTranspose(1, (5, 5), strides=(2, 2), padding='same', use_bias=False, activation='tanh'))\n",
    "    assert model.output_shape == (None, 28, 28, 1)\n",
    "\n",
    "    return model"
   ]
  },
  {
   "cell_type": "code",
   "execution_count": null,
   "metadata": {
    "colab": {
     "base_uri": "https://localhost:8080/",
     "height": 283
    },
    "executionInfo": {
     "elapsed": 9920,
     "status": "ok",
     "timestamp": 1667194921081,
     "user": {
      "displayName": "구름",
      "userId": "09983266874922425358"
     },
     "user_tz": -540
    },
    "id": "Kb6U8LHjw8qz",
    "outputId": "89ede6eb-6108-451b-d5e9-935e89670aa6"
   },
   "outputs": [],
   "source": [
    "generator = make_generator_model()\n",
    "\n",
    "noise = tf.random.normal([1, 100])\n",
    "generated_image = generator(noise, training=False)\n",
    "\n",
    "plt.imshow(generated_image[0, :, :, 0], cmap='Greys')"
   ]
  },
  {
   "cell_type": "code",
   "execution_count": null,
   "metadata": {
    "id": "i0e_Hwl3xp57",
    "executionInfo": {
     "status": "ok",
     "timestamp": 1667194921081,
     "user_tz": -540,
     "elapsed": 10,
     "user": {
      "displayName": "구름",
      "userId": "09983266874922425358"
     }
    }
   },
   "outputs": [],
   "source": [
    "def make_discriminator_model():\n",
    "    model = tf.keras.Sequential()\n",
    "    model.add(layers.Conv2D(64, (5, 5), strides=(2, 2), padding='same',\n",
    "                                     input_shape=[28, 28, 1]))\n",
    "    model.add(layers.LeakyReLU())\n",
    "    model.add(layers.Dropout(0.3))\n",
    "\n",
    "    model.add(layers.Conv2D(128, (5, 5), strides=(2, 2), padding='same'))\n",
    "    model.add(layers.LeakyReLU())\n",
    "    model.add(layers.Dropout(0.3))\n",
    "\n",
    "    model.add(layers.Flatten())\n",
    "    model.add(layers.Dense(1))\n",
    "\n",
    "    return model"
   ]
  },
  {
   "cell_type": "code",
   "execution_count": null,
   "metadata": {
    "colab": {
     "base_uri": "https://localhost:8080/"
    },
    "executionInfo": {
     "elapsed": 11,
     "status": "ok",
     "timestamp": 1667194921082,
     "user": {
      "displayName": "구름",
      "userId": "09983266874922425358"
     },
     "user_tz": -540
    },
    "id": "rAcsAhR5xr97",
    "outputId": "42bb996b-0ee0-44f9-a3d4-cf342de40dd3"
   },
   "outputs": [],
   "source": [
    "discriminator = make_discriminator_model()\n",
    "decision = discriminator(generated_image)\n",
    "print (decision)"
   ]
  },
  {
   "cell_type": "code",
   "execution_count": null,
   "metadata": {
    "id": "Ew0vFQZuxwZO",
    "executionInfo": {
     "status": "ok",
     "timestamp": 1667194921082,
     "user_tz": -540,
     "elapsed": 9,
     "user": {
      "displayName": "구름",
      "userId": "09983266874922425358"
     }
    }
   },
   "outputs": [],
   "source": [
    "cross_entropy = tf.keras.losses.BinaryCrossentropy(from_logits=True)"
   ]
  },
  {
   "cell_type": "code",
   "execution_count": null,
   "metadata": {
    "id": "UIDPDwptuOak",
    "executionInfo": {
     "status": "ok",
     "timestamp": 1667194921083,
     "user_tz": -540,
     "elapsed": 10,
     "user": {
      "displayName": "구름",
      "userId": "09983266874922425358"
     }
    }
   },
   "outputs": [],
   "source": [
    "def make_generator_model():\n",
    "    model = tf.keras.Sequential()\n",
    "    model.add(layers.Dense(7*7*256, use_bias=False, input_shape=(100,)))\n",
    "    model.add(layers.BatchNormalization())\n",
    "    model.add(layers.LeakyReLU())\n",
    "\n",
    "    model.add(layers.Reshape((7, 7, 256)))\n",
    "    assert model.output_shape == (None, 7, 7, 256) # 주목: 배치사이즈로 None이 주어집니다.\n",
    "\n",
    "    model.add(layers.Conv2DTranspose(128, (5, 5), strides=(1, 1), padding='same', use_bias=False))\n",
    "    assert model.output_shape == (None, 7, 7, 128)\n",
    "    model.add(layers.BatchNormalization())\n",
    "    model.add(layers.LeakyReLU())\n",
    "\n",
    "    model.add(layers.Conv2DTranspose(64, (5, 5), strides=(2, 2), padding='same', use_bias=False))\n",
    "    assert model.output_shape == (None, 14, 14, 64)\n",
    "    model.add(layers.BatchNormalization())\n",
    "    model.add(layers.LeakyReLU())\n",
    "\n",
    "    model.add(layers.Conv2DTranspose(1, (5, 5), strides=(2, 2), padding='same', use_bias=False, activation='tanh'))\n",
    "    assert model.output_shape == (None, 28, 28, 1)\n",
    "\n",
    "    return model"
   ]
  },
  {
   "cell_type": "code",
   "execution_count": null,
   "metadata": {
    "id": "RCAN3rnexyvw",
    "executionInfo": {
     "status": "ok",
     "timestamp": 1667194921083,
     "user_tz": -540,
     "elapsed": 10,
     "user": {
      "displayName": "구름",
      "userId": "09983266874922425358"
     }
    }
   },
   "outputs": [],
   "source": [
    "def discriminator_loss(real_output, fake_output):\n",
    "    real_loss = cross_entropy(tf.ones_like(real_output), real_output)\n",
    "    fake_loss = cross_entropy(tf.zeros_like(fake_output), fake_output)\n",
    "    total_loss = real_loss + fake_loss\n",
    "    return total_loss"
   ]
  },
  {
   "cell_type": "code",
   "execution_count": null,
   "metadata": {
    "id": "FEnNwC89x0bx",
    "executionInfo": {
     "status": "ok",
     "timestamp": 1667194921083,
     "user_tz": -540,
     "elapsed": 9,
     "user": {
      "displayName": "구름",
      "userId": "09983266874922425358"
     }
    }
   },
   "outputs": [],
   "source": [
    "def generator_loss(fake_output):\n",
    "    return cross_entropy(tf.ones_like(fake_output), fake_output)"
   ]
  },
  {
   "cell_type": "code",
   "execution_count": null,
   "metadata": {
    "id": "fBE-2X0Xx10S",
    "executionInfo": {
     "status": "ok",
     "timestamp": 1667194921083,
     "user_tz": -540,
     "elapsed": 9,
     "user": {
      "displayName": "구름",
      "userId": "09983266874922425358"
     }
    }
   },
   "outputs": [],
   "source": [
    "generator_optimizer = tf.keras.optimizers.Adam(1e-4)\n",
    "discriminator_optimizer = tf.keras.optimizers.Adam(1e-4)"
   ]
  },
  {
   "cell_type": "code",
   "execution_count": null,
   "metadata": {
    "id": "zASjuQq2x3qC",
    "executionInfo": {
     "status": "ok",
     "timestamp": 1667194921084,
     "user_tz": -540,
     "elapsed": 10,
     "user": {
      "displayName": "구름",
      "userId": "09983266874922425358"
     }
    }
   },
   "outputs": [],
   "source": [
    "checkpoint_dir = './training_checkpoints'\n",
    "checkpoint_prefix = os.path.join(checkpoint_dir, \"ckpt\")\n",
    "checkpoint = tf.train.Checkpoint(generator_optimizer=generator_optimizer,\n",
    "                                 discriminator_optimizer=discriminator_optimizer,\n",
    "                                 generator=generator,\n",
    "                                 discriminator=discriminator)"
   ]
  },
  {
   "cell_type": "code",
   "execution_count": null,
   "metadata": {
    "id": "aJ2Ipmpyx6Yp",
    "executionInfo": {
     "status": "ok",
     "timestamp": 1667194921084,
     "user_tz": -540,
     "elapsed": 9,
     "user": {
      "displayName": "구름",
      "userId": "09983266874922425358"
     }
    }
   },
   "outputs": [],
   "source": [
    "EPOCHS = 50\n",
    "noise_dim = 100\n",
    "num_examples_to_generate = 16\n",
    "\n",
    "# 이 시드를 시간이 지나도 재활용하겠습니다. \n",
    "# (GIF 애니메이션에서 진전 내용을 시각화하는데 쉽기 때문입니다.) \n",
    "seed = tf.random.normal([num_examples_to_generate, noise_dim])"
   ]
  },
  {
   "cell_type": "code",
   "execution_count": null,
   "metadata": {
    "id": "w6J1ul8rx8q2",
    "executionInfo": {
     "status": "ok",
     "timestamp": 1667194921084,
     "user_tz": -540,
     "elapsed": 9,
     "user": {
      "displayName": "구름",
      "userId": "09983266874922425358"
     }
    }
   },
   "outputs": [],
   "source": [
    "# `tf.function`이 어떻게 사용되는지 주목해 주세요.\n",
    "# 이 데코레이터는 함수를 \"컴파일\"합니다.\n",
    "@tf.function\n",
    "def train_step(images):\n",
    "    noise = tf.random.normal([BATCH_SIZE, noise_dim])\n",
    "\n",
    "    with tf.GradientTape() as gen_tape, tf.GradientTape() as disc_tape:\n",
    "      generated_images = generator(noise, training=True)\n",
    "\n",
    "      real_output = discriminator(images, training=True)\n",
    "      fake_output = discriminator(generated_images, training=True)\n",
    "\n",
    "      gen_loss = generator_loss(fake_output)\n",
    "      disc_loss = discriminator_loss(real_output, fake_output)\n",
    "\n",
    "    gradients_of_generator = gen_tape.gradient(gen_loss, generator.trainable_variables)\n",
    "    gradients_of_discriminator = disc_tape.gradient(disc_loss, discriminator.trainable_variables)\n",
    "\n",
    "    generator_optimizer.apply_gradients(zip(gradients_of_generator, generator.trainable_variables))\n",
    "    discriminator_optimizer.apply_gradients(zip(gradients_of_discriminator, discriminator.trainable_variables))"
   ]
  },
  {
   "cell_type": "code",
   "execution_count": null,
   "metadata": {
    "id": "8cuIHyKtx-ua",
    "executionInfo": {
     "status": "ok",
     "timestamp": 1667194921085,
     "user_tz": -540,
     "elapsed": 10,
     "user": {
      "displayName": "구름",
      "userId": "09983266874922425358"
     }
    }
   },
   "outputs": [],
   "source": [
    "def train(dataset, epochs):\n",
    "  for epoch in range(epochs):\n",
    "    start = time.time()\n",
    "\n",
    "    for image_batch in dataset:\n",
    "      train_step(image_batch)\n",
    "\n",
    "    # GIF를 위한 이미지를 바로 생성합니다.\n",
    "    display.clear_output(wait=True)\n",
    "    generate_and_save_images(generator,\n",
    "                             epoch + 1,\n",
    "                             seed)\n",
    "\n",
    "    # 15 에포크가 지날 때마다 모델을 저장합니다.\n",
    "    if (epoch + 1) % 15 == 0:\n",
    "      checkpoint.save(file_prefix = checkpoint_prefix)\n",
    "\n",
    "    # print (' 에포크 {} 에서 걸린 시간은 {} 초 입니다'.format(epoch +1, time.time()-start))\n",
    "    print ('Time for epoch {} is {} sec'.format(epoch + 1, time.time()-start))\n",
    "\n",
    "  # 마지막 에포크가 끝난 후 생성합니다.\n",
    "  display.clear_output(wait=True)\n",
    "  generate_and_save_images(generator,\n",
    "                           epochs,\n",
    "                           seed)"
   ]
  },
  {
   "cell_type": "code",
   "execution_count": null,
   "metadata": {
    "id": "GGxZfRzhyBjJ",
    "executionInfo": {
     "status": "ok",
     "timestamp": 1667194921085,
     "user_tz": -540,
     "elapsed": 10,
     "user": {
      "displayName": "구름",
      "userId": "09983266874922425358"
     }
    }
   },
   "outputs": [],
   "source": [
    "def generate_and_save_images(model, epoch, test_input):\n",
    "  # `training`이 False로 맞춰진 것을 주목하세요.\n",
    "  # 이렇게 하면 (배치정규화를 포함하여) 모든 층들이 추론 모드로 실행됩니다. \n",
    "  predictions = model(test_input, training=False)\n",
    "\n",
    "  fig = plt.figure(figsize=(4,4))\n",
    "\n",
    "  for i in range(predictions.shape[0]):\n",
    "      plt.subplot(4, 4, i+1)\n",
    "      plt.imshow(predictions[i, :, :, 0] * 127.5 + 127.5, cmap='Greys')\n",
    "      plt.axis('off')\n",
    "\n",
    "  # plt.savefig('GAN/image_at_epoch_{:04d}.png'.format(epoch))\n",
    "  plt.show()"
   ]
  },
  {
   "cell_type": "code",
   "execution_count": null,
   "metadata": {
    "colab": {
     "base_uri": "https://localhost:8080/",
     "height": 285
    },
    "id": "PMkv-pMOyDO8",
    "executionInfo": {
     "status": "ok",
     "timestamp": 1667195695073,
     "user_tz": -540,
     "elapsed": 2934,
     "user": {
      "displayName": "구름",
      "userId": "09983266874922425358"
     }
    },
    "outputId": "76b1060c-240e-4009-9cdb-6c84e0dd8a56"
   },
   "outputs": [],
   "source": [
    "%%time\n",
    "train(train_dataset, EPOCHS)"
   ]
  },
  {
   "cell_type": "code",
   "execution_count": null,
   "metadata": {
    "id": "e-mPIyCa6-Rf",
    "executionInfo": {
     "status": "ok",
     "timestamp": 1667195384613,
     "user_tz": -540,
     "elapsed": 298,
     "user": {
      "displayName": "구름",
      "userId": "09983266874922425358"
     }
    }
   },
   "outputs": [],
   "source": [
    "EPOCHS=1"
   ]
  },
  {
   "cell_type": "code",
   "execution_count": null,
   "metadata": {
    "id": "l25DmKa5Gg4r",
    "colab": {
     "base_uri": "https://localhost:8080/"
    },
    "executionInfo": {
     "status": "ok",
     "timestamp": 1667195689225,
     "user_tz": -540,
     "elapsed": 1566,
     "user": {
      "displayName": "구름",
      "userId": "09983266874922425358"
     }
    },
    "outputId": "bc11afef-cba3-4d17-df36-4a6ce4152680"
   },
   "outputs": [],
   "source": [
    "checkpoint.restore(tf.train.latest_checkpoint('data/GAN/'))"
   ]
  },
  {
   "cell_type": "code",
   "execution_count": null,
   "metadata": {
    "colab": {
     "base_uri": "https://localhost:8080/",
     "height": 248
    },
    "executionInfo": {
     "elapsed": 946,
     "status": "ok",
     "timestamp": 1667195047982,
     "user": {
      "displayName": "구름",
      "userId": "09983266874922425358"
     },
     "user_tz": -540
    },
    "id": "lp9h71AlACpO",
    "outputId": "d6a5ac0d-c840-43a5-e08e-030d73a353e1"
   },
   "outputs": [],
   "source": [
    "fig = plt.figure(figsize=(4,4))\n",
    "    \n",
    "for i in range(16):\n",
    "  plt.subplot(4, 4, i+1)\n",
    "  plt.imshow(train_images[i, :, :, 0] * 127.5 + 127.5, cmap='Greys')\n",
    "  plt.axis('off')"
   ]
  },
  {
   "cell_type": "code",
   "source": [
    "# noise = tf.random.normal([1, 100])\n",
    "# generated_image = generator(noise, training=False)\n",
    "\n",
    "# plt.imshow(generated_image[0, :, :, 0], cmap='Greys')\n",
    "\n",
    "fig = plt.figure(figsize=(20,20))\n",
    "    \n",
    "for i in range(100):\n",
    "  plt.subplot(10, 10, i+1)\n",
    "  noise = tf.random.normal([1, 100])\n",
    "  generated_image = generator(noise, training=False)\n",
    "  plt.imshow(generated_image[0, :, :, 0] * 127.5 + 127.5, cmap='Greys')\n",
    "  plt.axis('off')"
   ],
   "metadata": {
    "colab": {
     "base_uri": "https://localhost:8080/",
     "height": 1000
    },
    "id": "zsViVS5ykfDw",
    "executionInfo": {
     "status": "ok",
     "timestamp": 1667195703300,
     "user_tz": -540,
     "elapsed": 4948,
     "user": {
      "displayName": "구름",
      "userId": "09983266874922425358"
     }
    },
    "outputId": "d60b4fe8-309d-4d83-8f92-de01ce0e97bb"
   },
   "execution_count": null,
   "outputs": []
  }
 ],
 "metadata": {
  "accelerator": "GPU",
  "colab": {
   "collapsed_sections": [],
   "machine_shape": "hm",
   "provenance": [],
   "authorship_tag": "ABX9TyNKTa9MihBfTlvJirzvw6L8"
  },
  "gpuClass": "standard",
  "kernelspec": {
   "display_name": "Python 3",
   "name": "python3"
  },
  "language_info": {
   "name": "python"
  }
 },
 "nbformat": 4,
 "nbformat_minor": 0
}
