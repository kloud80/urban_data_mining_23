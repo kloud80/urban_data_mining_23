{
 "cells": [
  {
   "cell_type": "code",
   "execution_count": 1,
   "metadata": {
    "id": "g-GTcz8o7rb-",
    "executionInfo": {
     "status": "ok",
     "timestamp": 1669784772608,
     "user_tz": -540,
     "elapsed": 414,
     "user": {
      "displayName": "구름",
      "userId": "09983266874922425358"
     }
    },
    "pycharm": {
     "name": "#%%\n"
    }
   },
   "outputs": [],
   "source": [
    "import numpy as np\n",
    "import pandas as pd\n",
    "import os, sys\n",
    "\n",
    "import matplotlib.pyplot as plt\n"
   ]
  },
  {
   "cell_type": "code",
   "execution_count": null,
   "metadata": {
    "id": "5kSdQSeI71gN",
    "pycharm": {
     "name": "#%%\n"
    }
   },
   "outputs": [],
   "source": [
    "#구글 드라이브에 연결\n",
    "from google.colab import drive\n",
    "\n",
    "drive.mount('/content/gdrive/')"
   ]
  },
  {
   "cell_type": "code",
   "execution_count": null,
   "metadata": {
    "id": "sUNYYHRb76FK",
    "pycharm": {
     "name": "#%%\n"
    }
   },
   "outputs": [],
   "source": [
    "#작업 폴더 이동\n",
    "os.chdir('/content/gdrive/My Drive/Colab Notebooks/urban-data-mining/10 ETC/data/')\n",
    "os.listdir()\n",
    "# os.getcwd()"
   ]
  },
  {
   "cell_type": "code",
   "execution_count": null,
   "metadata": {
    "id": "ajAHuHWC8wQC",
    "pycharm": {
     "name": "#%%\n"
    }
   },
   "outputs": [],
   "source": [
    "data = pd.read_csv('202210_202210_연령별인구현황_월간.csv', encoding='cp949', dtype=str)\n",
    "data.head(5)"
   ]
  },
  {
   "cell_type": "code",
   "source": [
    "\n",
    "\n",
    "data['len'] = data['행정구역'].apply(lambda x : len(x.split('(')[0].strip().split(' ')))\n",
    "data = data[data['len']==2]\n",
    "\n",
    "data = data.drop(columns='len')\n",
    "\n",
    "data.head(5)"
   ],
   "metadata": {
    "id": "X5ikP08Y1SqM",
    "pycharm": {
     "name": "#%%\n"
    }
   },
   "execution_count": null,
   "outputs": []
  },
  {
   "cell_type": "code",
   "execution_count": null,
   "metadata": {
    "id": "wB-WAu5aCi1U",
    "pycharm": {
     "name": "#%%\n"
    }
   },
   "outputs": [],
   "source": [
    "data.set_index('행정구역', inplace=True)\n",
    "data.head(5)"
   ]
  },
  {
   "cell_type": "code",
   "execution_count": null,
   "metadata": {
    "id": "-13MbFBv9Dlc",
    "pycharm": {
     "name": "#%%\n"
    }
   },
   "outputs": [],
   "source": [
    "cols = np.array(data.columns)\n",
    "cols = [col.replace('2022년10월_', '') for col in cols]\n",
    "cols = [col.replace('남', 'M') for col in cols]\n",
    "cols = [col.replace('여', 'F') for col in cols]\n",
    "cols = [col.replace('세', '') for col in cols]\n",
    "cols = [col.replace('이상', '~') for col in cols]\n",
    "data.columns = cols\n",
    "\n",
    "data = data[np.append(cols[15:26], cols[28:])]\n",
    "cols = np.append(cols[15:26], cols[28:])\n",
    "data.head(5)"
   ]
  },
  {
   "cell_type": "code",
   "execution_count": null,
   "metadata": {
    "id": "h_U1fswwC1Jr",
    "pycharm": {
     "name": "#%%\n"
    }
   },
   "outputs": [],
   "source": [
    "for col in cols:\n",
    "  data[col] = data[col].str.replace(',', '').astype('int')\n",
    "\n",
    "data.dtypes"
   ]
  },
  {
   "cell_type": "markdown",
   "metadata": {
    "id": "YDaFunBBAlzU",
    "pycharm": {
     "name": "#%% md\n"
    }
   },
   "source": [
    "행정동과 연령대/성별 인구수로 구성된 테이블을 Factorizing하기 위해서\n",
    " \n",
    "행정동 데이터 갯수와 연령대/성별 구분 갯수를 불러온다"
   ]
  },
  {
   "cell_type": "code",
   "execution_count": null,
   "metadata": {
    "id": "rewaf8kL9rNW",
    "pycharm": {
     "name": "#%%\n"
    }
   },
   "outputs": [],
   "source": [
    "\n",
    "location = np.array(data.index)\n",
    "pcount = np.array(data.columns)\n",
    "\n",
    "print('location' + str(location.shape))\n",
    "print('pcount' + str(pcount.shape))"
   ]
  },
  {
   "cell_type": "markdown",
   "metadata": {
    "id": "fhmRSYfmA7Ae",
    "pycharm": {
     "name": "#%% md\n"
    }
   },
   "source": [
    "학습용 데이터의 입력 변수를 행정동수+연령대/성별 수 크기이 배열을 만들고\n",
    "\n",
    "대상 데이터만 1 값으로 표시하는 방식으로 데이터이 좌표를 표시할 목적으로 입력 행렬을 생성한다.\n"
   ]
  },
  {
   "cell_type": "code",
   "execution_count": null,
   "metadata": {
    "id": "EB_cXRmW-9gz",
    "pycharm": {
     "name": "#%%\n"
    }
   },
   "outputs": [],
   "source": [
    "input_data = np.concatenate([np.zeros(location.shape[0]), np.zeros(pcount.shape[0])])\n",
    "input_data = input_data[:, np.newaxis]\n",
    "input_data.shape"
   ]
  },
  {
   "cell_type": "markdown",
   "metadata": {
    "id": "HcFBpWozBV5Z",
    "pycharm": {
     "name": "#%% md\n"
    }
   },
   "source": [
    "data 테이블을 칸단위로 이동하면서 학습용 데이터셋을 생성한다."
   ]
  },
  {
   "cell_type": "code",
   "execution_count": null,
   "metadata": {
    "id": "NOcPfzPr_gBh",
    "pycharm": {
     "name": "#%%\n"
    }
   },
   "outputs": [],
   "source": [
    "#입력변수는 행정동수와 연령대/성별이 좌표 형태로 구성된다\n",
    "#데이터 레코드는 data 행렬의 데이터 갯수 만큼 생성된다\n",
    "#대상 데이터의 좌표만 1이 되고 나머지는 모두 0으로 처리\n",
    "X1 = np.zeros([location.shape[0] * pcount.shape[0], location.shape[0], 1])\n",
    "X2 = np.zeros([location.shape[0] * pcount.shape[0], pcount.shape[0], 1])\n",
    "\n",
    "#대상 데이터 값을 지정한다.\n",
    "y = np.zeros([location.shape[0] * pcount.shape[0], 1])\n",
    "print('X1 = ' + str(X1.shape))\n",
    "print('X2 = ' + str(X2.shape))\n",
    "print('y = ' + str(y.shape))\n",
    "\n",
    "n = 0\n",
    "for i in range(location.shape[0]):\n",
    "  for j in range(pcount.shape[0]):\n",
    "    x1 = np.zeros([location.shape[0], 1])\n",
    "    x2 = np.zeros([pcount.shape[0], 1])\n",
    "    \n",
    "    #행좌표(행정동) 위치 지정하기. (1로 변경)\n",
    "    x1[i, 0] = 1\n",
    "    #열좌표(연령대/성별) 위치 지정하기 (1로 변경)\n",
    "    x2[j, 0] = 1\n",
    "\n",
    "    X1[n, :, :] = x1\n",
    "    X2[n, :, :] = x2\n",
    "    \n",
    "    y[n,0] = data.iloc[i,j]\n",
    "    n+=1\n",
    "  \n",
    "y_max = y.max()\n",
    "y = y / y_max\n",
    "\n",
    "print('X1 좌표 = ' + str(np.where(X1[0, :, 0]==1)))\n",
    "print('X2 좌표 = ' + str(np.where(X2[0, :, 0]==1)))\n",
    "print('y 값 = ' + str(y[0,0]))"
   ]
  },
  {
   "cell_type": "code",
   "execution_count": null,
   "metadata": {
    "id": "UpnhVCq9FiRh",
    "pycharm": {
     "name": "#%%\n"
    }
   },
   "outputs": [],
   "source": [
    "import keras.layers as layers\n",
    "import keras.optimizers as optimizers\n",
    "from keras.models import Model, load_model\n",
    "from keras import layers\n",
    "from keras import models\n",
    "from keras.models import load_model\n",
    "input1 = layers.Input(shape=(location.shape[0]))\n",
    "input2 = layers.Input(shape=(pcount.shape[0]))\n",
    "\n",
    "eigen1 = layers.Dense(2, use_bias=False, activation='linear')(input1)\n",
    "eigen2 = layers.Dense(2, use_bias=False, activation='linear')(input2)\n",
    "\n",
    "net = layers.Dot(axes=(1, 1))([eigen1, eigen2])\n",
    "\n",
    "model = Model(inputs=[input1, input2], outputs=net)\n",
    "\n",
    "model.compile(loss='mse', optimizer='adam', metrics=['acc'])\n",
    "model.summary()"
   ]
  },
  {
   "cell_type": "code",
   "execution_count": 13,
   "metadata": {
    "id": "3gNzDE3pa40P",
    "executionInfo": {
     "status": "ok",
     "timestamp": 1669784819401,
     "user_tz": -540,
     "elapsed": 1129,
     "user": {
      "displayName": "구름",
      "userId": "09983266874922425358"
     }
    },
    "pycharm": {
     "name": "#%%\n"
    }
   },
   "outputs": [],
   "source": [
    "model = models.load_model(\"CF_model\")"
   ]
  },
  {
   "cell_type": "code",
   "execution_count": null,
   "metadata": {
    "id": "-qIvDm6FJYi0",
    "pycharm": {
     "name": "#%%\n"
    }
   },
   "outputs": [],
   "source": [
    "for i in range(1):\n",
    "  hist = model.fit(x=[X1, X2], y=y, epochs=50)\n",
    "  print(str(i) + '번째 학습중')\n",
    "  model.save(\"CF_model\")"
   ]
  },
  {
   "cell_type": "code",
   "execution_count": null,
   "metadata": {
    "id": "cKY5GFHfN6bO",
    "pycharm": {
     "name": "#%%\n"
    }
   },
   "outputs": [],
   "source": [
    "model.save(\"CF_model\")"
   ]
  },
  {
   "cell_type": "code",
   "execution_count": null,
   "metadata": {
    "id": "taccl-COMh_t",
    "pycharm": {
     "name": "#%%\n"
    }
   },
   "outputs": [],
   "source": [
    "location_eigen = np.array(model.layers[2].get_weights())\n",
    "pcount_eigen = np.array(model.layers[3].get_weights())\n",
    "\n",
    "print('location_eigen = ' + str(location_eigen.shape))\n",
    "print('pcount_eigen = ' + str(pcount_eigen.shape))"
   ]
  },
  {
   "cell_type": "code",
   "execution_count": null,
   "metadata": {
    "id": "WXmZg1i5NnJ8",
    "pycharm": {
     "name": "#%%\n"
    }
   },
   "outputs": [],
   "source": [
    "plt.scatter(location_eigen[0,:,0], location_eigen[0,:,1], color = 'r', s = 10)\n",
    "\n",
    "plt.show()"
   ]
  },
  {
   "cell_type": "code",
   "execution_count": null,
   "metadata": {
    "id": "aUIAXXZkagkQ",
    "pycharm": {
     "name": "#%%\n"
    }
   },
   "outputs": [],
   "source": [
    "plt.scatter(pcount_eigen[0,:,0], pcount_eigen[0,:,1], color = 'r', s = 10)\n",
    "\n",
    "plt.show()"
   ]
  },
  {
   "cell_type": "code",
   "execution_count": null,
   "metadata": {
    "id": "G-SavhYpaU6e",
    "pycharm": {
     "name": "#%%\n"
    }
   },
   "outputs": [],
   "source": [
    "from sklearn.metrics.pairwise import cosine_similarity\n",
    "cossim = cosine_similarity(location_eigen[0,:,:], location_eigen[0,:,:])\n",
    "\n",
    "cossim.shape"
   ]
  },
  {
   "cell_type": "code",
   "source": [],
   "metadata": {
    "id": "myjt8GoG4DBL",
    "pycharm": {
     "name": "#%%\n"
    }
   },
   "execution_count": null,
   "outputs": []
  },
  {
   "cell_type": "code",
   "execution_count": null,
   "metadata": {
    "id": "Xs1620OIwQ6j",
    "pycharm": {
     "name": "#%%\n"
    }
   },
   "outputs": [],
   "source": [
    "#각 클러스터별 출력한다.\n",
    "import ipywidgets \n",
    "\n",
    "def display_cossim(cnum = 0, top=0.999) :\n",
    "  print(location[cnum])\n",
    "  data.loc[location[cnum]][:11].plot.bar(alpha=0.5, label='M', legend=True)\n",
    "  data.loc[location[cnum]][11:].plot.bar(alpha=0.5, color='red', position=0, label='F', legend=True)  \n",
    "  plt.show()\n",
    "  print()\n",
    "  similarity = cossim[cnum,:].copy() #cos유사도 테이블 복사\n",
    "  # similarity = np.delete(similarity, cnum) #대상 데이터 삭제\n",
    "  print(location[np.where(similarity > top)][:5])\n",
    "  print(similarity[np.where(similarity > top)][:5])\n",
    "  print(similarity[np.where(similarity > top)].shape)\n",
    "\n",
    "\n",
    "  plt.figure(figsize=(20, 3))\n",
    "  for i in range(min(5, similarity[np.where(similarity > top)].shape[0])):\n",
    "    plt.subplot(1, 5, i + 1)\n",
    "    data.loc[location[np.where(similarity > top)][i]][:11].plot.bar(alpha=0.5, label='M', legend=True)\n",
    "    data.loc[location[np.where(similarity > top)][i]][11:].plot.bar(alpha=0.5, color='red', position=0, label='F', legend=True)  \n",
    "\n",
    "\n",
    "\n",
    "ipywidgets.interact(display_cossim, cnum=(0, data.shape[0], 1) , top=(0.999,1, 0.0001))"
   ]
  },
  {
   "cell_type": "code",
   "execution_count": null,
   "metadata": {
    "id": "Ivn9UQODaaBR",
    "pycharm": {
     "name": "#%%\n"
    }
   },
   "outputs": [],
   "source": [
    "from sklearn.metrics.pairwise import cosine_similarity\n",
    "cossim2 = cosine_similarity(pcount_eigen[0,:,:], pcount_eigen[0,:,:])\n",
    "\n",
    "cossim2.shape"
   ]
  },
  {
   "cell_type": "code",
   "execution_count": null,
   "metadata": {
    "id": "wnxbjxJgyx5P",
    "pycharm": {
     "name": "#%%\n"
    }
   },
   "outputs": [],
   "source": [
    "#각 클러스터별 출력한다.\n",
    "\n",
    "def display_cossim2(cnum = 0, top=0.95) :\n",
    "  print(pcount[cnum])\n",
    "  print()\n",
    "  similarity = cossim2[cnum,:].copy() #cos유사도 테이블 복사\n",
    "  # similarity = np.delete(similarity, cnum) #대상 데이터 삭제\n",
    "  print(pcount[np.where(similarity > top)])\n",
    "  print(similarity[np.where(similarity > top)])\n",
    "\n",
    "\n",
    "ipywidgets.interact(display_cossim2, cnum=(0, data.shape[1], 1) , top=(0.5,1, 0.05))"
   ]
  }
 ],
 "metadata": {
  "accelerator": "GPU",
  "colab": {
   "machine_shape": "hm",
   "provenance": [],
   "authorship_tag": "ABX9TyOsxZn8nNDcnLs2AOXEJX/X"
  },
  "gpuClass": "premium",
  "kernelspec": {
   "display_name": "Python 3",
   "name": "python3"
  },
  "language_info": {
   "name": "python"
  }
 },
 "nbformat": 4,
 "nbformat_minor": 0
}