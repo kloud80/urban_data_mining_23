{
 "nbformat": 4,
 "nbformat_minor": 0,
 "metadata": {
  "colab": {
   "provenance": [],
   "authorship_tag": "ABX9TyMvNRPQNv17wWQ5dc9hx++7"
  },
  "kernelspec": {
   "name": "python3",
   "display_name": "Python 3"
  },
  "language_info": {
   "name": "python"
  },
  "accelerator": "GPU",
  "gpuClass": "standard"
 },
 "cells": [
  {
   "cell_type": "code",
   "execution_count": null,
   "metadata": {
    "id": "X4sOJcDcOBCs",
    "pycharm": {
     "name": "#%%\n"
    }
   },
   "outputs": [],
   "source": [
    "pip install git+https://github.com/SKT-AI/KoBART#egg=kobart "
   ]
  },
  {
   "cell_type": "code",
   "source": [
    "from transformers import BartModel\n",
    "from kobart import get_pytorch_kobart_model, get_kobart_tokenizer\n",
    "kobart_tokenizer = get_kobart_tokenizer()\n",
    "model = BartModel.from_pretrained(get_pytorch_kobart_model())\n"
   ],
   "metadata": {
    "id": "illrkZThOFbP",
    "pycharm": {
     "name": "#%%\n"
    }
   },
   "execution_count": null,
   "outputs": []
  },
  {
   "cell_type": "code",
   "source": [
    "\n",
    "import sys\n",
    "import requests\n",
    "import pandas as pd\n",
    "import numpy as np\n",
    "import html\n",
    "from bs4 import BeautifulSoup\n",
    "import bs4\n",
    "import re\n",
    "import json\n",
    "import time\n",
    "from datetime import datetime\n",
    "import ipywidgets"
   ],
   "metadata": {
    "id": "6MWpYR1IOLf1",
    "pycharm": {
     "name": "#%%\n"
    }
   },
   "execution_count": null,
   "outputs": []
  },
  {
   "cell_type": "code",
   "source": [
    "#네이버 API 아이디 키 값\n",
    "client_id = \"\" #1.에서 취득한 아이디 넣기\n",
    "client_secret = \"\"  #1. 에서 취득한 키 넣기"
   ],
   "metadata": {
    "id": "M8zN1JiOONLx",
    "pycharm": {
     "name": "#%%\n"
    }
   },
   "execution_count": null,
   "outputs": []
  },
  {
   "cell_type": "code",
   "source": [
    "\n",
    "def GetNaverNews(search_word, num= 100):\n",
    "    # search_word = '부동산' #검색어\n",
    "    global client_id, client_secret\n",
    "\n",
    "    encode_type = 'json'  # 출력 방식 json 또는 xml\n",
    "    max_display = 100  # 출력 뉴스 수\n",
    "    sort = 'date'  # 결과값의 정렬기준 시간순 date, 관련도 순 sim\n",
    "\n",
    "    bFirst = True\n",
    "    for start in range(1, num, 100):\n",
    "        url = f\"https://openapi.naver.com/v1/search/news.{encode_type}?query={search_word}&display={str(int(max_display))}&start={str(int(start))}&sort={sort}\"\n",
    "\n",
    "        # 헤더에 아이디와 키 정보 넣기\n",
    "        headers = {'X-Naver-Client-Id': client_id,\n",
    "                   'X-Naver-Client-Secret': client_secret\n",
    "                   }\n",
    "\n",
    "        # HTTP요청 보내기\n",
    "        r = requests.get(url, headers=headers)\n",
    "        # 요청 결과 보기 200 이면 정상적으로 요청 완료\n",
    "        if r.status_code == 200:\n",
    "            if bFirst:\n",
    "                data = pd.DataFrame(r.json()['items'])\n",
    "                bFirst = False\n",
    "            else:\n",
    "                data = pd.concat([data, pd.DataFrame(r.json()['items'])], axis=0)\n",
    "\n",
    "    # 태그 삭제\n",
    "    data['title'] = data['title'].apply(lambda x: re.sub('(<([^>]+)>)', '', html.unescape(x)))\n",
    "    data['description'] = data['description'].apply(lambda x: re.sub('(<([^>]+)>)', '', html.unescape(x)))\n",
    "\n",
    "    return data"
   ],
   "metadata": {
    "id": "OnDffgRUOOs-",
    "pycharm": {
     "name": "#%%\n"
    }
   },
   "execution_count": null,
   "outputs": []
  },
  {
   "cell_type": "code",
   "source": [
    "data = GetNaverNews('월드컵', num=1000)\n",
    "data = data.reset_index()\n",
    "data.head(10)"
   ],
   "metadata": {
    "id": "1eiRU7EHOQDs",
    "pycharm": {
     "name": "#%%\n"
    }
   },
   "execution_count": null,
   "outputs": []
  },
  {
   "cell_type": "code",
   "source": [
    "words = {}\n",
    "words_list = np.array([])\n",
    "for i, row in data.iterrows():\n",
    "  words[i] = kobart_tokenizer([row['description']], return_tensors='pt')['input_ids']\n",
    "  words_list = np.append(words_list, words[i])\n",
    "\n",
    "print(words_list.shape)\n",
    "words_list = np.unique(words_list)\n",
    "print(words_list.shape)"
   ],
   "metadata": {
    "id": "k3fVhw0qORw4",
    "pycharm": {
     "name": "#%%\n"
    }
   },
   "execution_count": null,
   "outputs": []
  },
  {
   "cell_type": "code",
   "source": [
    "tf_table = np.zeros([data.shape[0], words_list.shape[0]])\n",
    "\n",
    "for i in range(tf_table.shape[0]):\n",
    "  for j in range(tf_table.shape[1]):\n",
    "    tf_table[i, j] = (np.where(words[i]==words_list[j])[1]).shape[0]\n",
    "\n",
    "  sys.stdout.write('\\r[' + str(i) + '/' + str(tf_table.shape[0]) + ']')\n",
    "\n",
    "tf_table"
   ],
   "metadata": {
    "id": "_MVkpQ46QaZF",
    "pycharm": {
     "name": "#%%\n"
    }
   },
   "execution_count": null,
   "outputs": []
  },
  {
   "cell_type": "code",
   "source": [
    "df_table = tf_table.copy()\n",
    "df_table[np.where(df_table>0)] = 1\n",
    "\n",
    "df_table = df_table.sum(axis=0)\n",
    "df_table"
   ],
   "metadata": {
    "id": "QPr5QU4RRa8v",
    "pycharm": {
     "name": "#%%\n"
    }
   },
   "execution_count": null,
   "outputs": []
  },
  {
   "cell_type": "code",
   "source": [
    "idf_table = np.log(data.shape[0] / (1 + df_table))\n",
    "idf_table"
   ],
   "metadata": {
    "id": "ffLJpCkuQRim",
    "pycharm": {
     "name": "#%%\n"
    }
   },
   "execution_count": null,
   "outputs": []
  },
  {
   "cell_type": "code",
   "source": [
    "tf_idf_table = tf_table * idf_table\n",
    "tf_idf_table"
   ],
   "metadata": {
    "id": "9uBgJOsLTJ5j",
    "pycharm": {
     "name": "#%%\n"
    }
   },
   "execution_count": null,
   "outputs": []
  },
  {
   "cell_type": "code",
   "source": [
    "from sklearn.metrics.pairwise import cosine_similarity\n",
    "cossim = cosine_similarity(tf_idf_table, tf_idf_table)\n",
    "\n",
    "cossim.shape"
   ],
   "metadata": {
    "id": "Ol5ToNe4VTU3",
    "pycharm": {
     "name": "#%%\n"
    }
   },
   "execution_count": null,
   "outputs": []
  },
  {
   "cell_type": "code",
   "source": [
    "from scipy.stats import rankdata\n",
    "\n",
    "#각 클러스터별 출력한다.\n",
    "\n",
    "def display_cossim_TFIDF(cnum = 0, top=5) :\n",
    "  global data, cossim\n",
    "  print(data.loc[cnum, 'title'])\n",
    "  print()\n",
    "  similarity = cossim[cnum,:].copy() #cos유사도 테이블 복사\n",
    "  # similarity = np.delete(similarity, cnum) #대상 데이터 삭제\n",
    "  ranks = rankdata(similarity, method='max')\n",
    "  print(data.loc[np.where(ranks > similarity.shape[0] - top)[0], ['title', 'description']])\n",
    "  print()\n",
    "  print(similarity[np.where(ranks > similarity.shape[0] - top)])\n",
    "\n",
    "\n",
    "ipywidgets.interact(display_cossim_TFIDF, cnum=(0, data.shape[0], 1) , top=(5,20, 1))"
   ],
   "metadata": {
    "id": "zX6_HNClV6C8",
    "pycharm": {
     "name": "#%%\n"
    }
   },
   "execution_count": null,
   "outputs": []
  }
 ]
}