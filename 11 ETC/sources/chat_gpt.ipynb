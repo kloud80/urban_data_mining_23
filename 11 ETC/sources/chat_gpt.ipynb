{
 "nbformat": 4,
 "nbformat_minor": 0,
 "metadata": {
  "colab": {
   "provenance": [],
   "machine_shape": "hm",
   "gpuType": "A100",
   "authorship_tag": "ABX9TyOv7xZso5kHBeATtGq0pMmv"
  },
  "kernelspec": {
   "name": "python3",
   "display_name": "Python 3"
  },
  "language_info": {
   "name": "python"
  },
  "accelerator": "GPU"
 },
 "cells": [
  {
   "cell_type": "code",
   "execution_count": null,
   "metadata": {
    "id": "YADlkXc1axfd"
   },
   "outputs": [],
   "source": [
    "!pip install openai"
   ]
  },
  {
   "cell_type": "code",
   "source": [
    "from openai import OpenAI\n",
    "client = OpenAI(api_key='<<open api key>>')"
   ],
   "metadata": {
    "id": "1U-Kp1LgdyIF",
    "executionInfo": {
     "status": "ok",
     "timestamp": 1700361991727,
     "user_tz": -540,
     "elapsed": 506,
     "user": {
      "displayName": "구름",
      "userId": "09983266874922425358"
     }
    }
   },
   "execution_count": 2,
   "outputs": []
  },
  {
   "cell_type": "code",
   "source": [
    "\n",
    "def chatGPT(chatML, temp=0.8, maxtoken=1000):\n",
    "    response = client.chat.completions.create(\n",
    "        model=\"gpt-4\",\n",
    "        messages=chatML.get_messages(),\n",
    "        temperature=temp,\n",
    "        max_tokens=maxtoken,\n",
    "    )\n",
    "    return response\n",
    "\n",
    "\n",
    "class st_chatML():\n",
    "    # 채팅을 추가한다 역할은 system, assistant(챗봇), user 로 나뉜다.\n",
    "    def add_chat(self, role, content):\n",
    "        self.messages.append({'role': role, 'content': content})\n",
    "\n",
    "    # 전체 메세지 리스트를 리턴한다.\n",
    "    def get_messages(self):\n",
    "        return self.messages\n",
    "\n",
    "    # 초기화시 system으로 봇의 역할과 GPT에 없는 추가 정보를 미리 전달한다.\n",
    "    def __init__(self):\n",
    "        self.messages = []\n",
    "\n",
    "\n",
    "    # 외부에서 초기화 호출용\n",
    "    def init(self):\n",
    "        self.__init__()\n",
    "\n",
    "    # 마지막 메세지만 출력\n",
    "    def get_last(self):\n",
    "        return self.messages[-1]\n",
    "\n",
    "    # 마지막 메세지를 지운다.\n",
    "    def del_last(self):\n",
    "        self.messages = self.messages[:-1]\n",
    "\n",
    "    # 지도 조건 정보를 json 형태로 보관\n",
    "    def set_json(self, json_obj):\n",
    "        self.json_object = json_obj\n",
    "\n",
    "    # 지도 조건 정보를 불러낸다.\n",
    "    def get_json(self):\n",
    "        return self.json_object\n",
    "\n",
    "    messages = []  # 메세지 보관용 list\n",
    "    json_object = {}  # 지도 보관용 dict"
   ],
   "metadata": {
    "id": "6O5vbSZLa1Q1",
    "executionInfo": {
     "status": "ok",
     "timestamp": 1700362275170,
     "user_tz": -540,
     "elapsed": 9,
     "user": {
      "displayName": "구름",
      "userId": "09983266874922425358"
     }
    }
   },
   "execution_count": 11,
   "outputs": []
  },
  {
   "cell_type": "code",
   "source": [
    "chat_msg = st_chatML()\n",
    "chat_msg.init()\n",
    "\n",
    "chat_msg.add_chat(\"system\", \"이 챗봇은 건방진 초등학생 입니다.\")\n",
    "chat_msg.add_chat(\"user\", \"안녕\")\n",
    "\n",
    "answer = chatGPT(chat_msg)\n",
    "\n",
    "answer.dict()['choices'][0]['message']['content']\n"
   ],
   "metadata": {
    "colab": {
     "base_uri": "https://localhost:8080/",
     "height": 35
    },
    "id": "HkBPP6RrbJeB",
    "executionInfo": {
     "status": "ok",
     "timestamp": 1700362362140,
     "user_tz": -540,
     "elapsed": 3323,
     "user": {
      "displayName": "구름",
      "userId": "09983266874922425358"
     }
    },
    "outputId": "b9612c22-c3b7-4410-d8e6-5b8c69fb4815"
   },
   "execution_count": null,
   "outputs": []
  }
 ]
}
