{
 "nbformat": 4,
 "nbformat_minor": 0,
 "metadata": {
  "colab": {
   "provenance": [],
   "collapsed_sections": [],
   "authorship_tag": "ABX9TyNYlXan/d5pXsDwF0igIsoa"
  },
  "kernelspec": {
   "name": "python3",
   "display_name": "Python 3"
  },
  "language_info": {
   "name": "python"
  }
 },
 "cells": [
  {
   "cell_type": "code",
   "execution_count": null,
   "metadata": {
    "colab": {
     "base_uri": "https://localhost:8080/"
    },
    "id": "31BLFA4LrBJl",
    "executionInfo": {
     "status": "ok",
     "timestamp": 1662868336819,
     "user_tz": -540,
     "elapsed": 20719,
     "user": {
      "displayName": "­구름 | 공과대학 도시공학과 | 겸임교수 | 한양대(서울)",
      "userId": "01437336538035275262"
     }
    },
    "outputId": "3a1e4788-b6f2-4577-cc3b-26ff79ed61e4",
    "pycharm": {
     "name": "#%%\n",
     "is_executing": true
    }
   },
   "outputs": [],
   "source": [
    "#구글 드라이버와 colab을 연결\n",
    "from google.colab import drive\n",
    "drive.mount('/content/drive')"
   ]
  },
  {
   "cell_type": "code",
   "source": [
    "#구글 드라이버에서 Colab Notebooks 폴더로 이동\n",
    "import os\n",
    "os.chdir('/content/drive/MyDrive/Colab Notebooks')"
   ],
   "metadata": {
    "id": "RNI3fCWhsaNp",
    "executionInfo": {
     "status": "ok",
     "timestamp": 1662868699443,
     "user_tz": -540,
     "elapsed": 280,
     "user": {
      "displayName": "­구름 | 공과대학 도시공학과 | 겸임교수 | 한양대(서울)",
      "userId": "01437336538035275262"
     }
    },
    "pycharm": {
     "name": "#%%\n",
     "is_executing": true
    }
   },
   "execution_count": null,
   "outputs": []
  },
  {
   "cell_type": "code",
   "source": [
    "#깃헙에서 코드 복제하기\n",
    "!git clone https://github.com/kloud80/urban_data_mining_23.git"
   ],
   "metadata": {
    "colab": {
     "base_uri": "https://localhost:8080/"
    },
    "id": "aNYu_-zEsE5e",
    "executionInfo": {
     "status": "ok",
     "timestamp": 1662868794451,
     "user_tz": -540,
     "elapsed": 271,
     "user": {
      "displayName": "­구름 | 공과대학 도시공학과 | 겸임교수 | 한양대(서울)",
      "userId": "01437336538035275262"
     }
    },
    "outputId": "1e13fde6-58c9-4570-bc90-fa0f3f43403f",
    "pycharm": {
     "name": "#%%\n",
     "is_executing": true
    }
   },
   "execution_count": null,
   "outputs": []
  },
  {
   "cell_type": "code",
   "source": [
    "#복제한 폴더로 이동\n",
    "os.chdir('/content/drive/MyDrive/Colab Notebooks/urban_data_mining_23')"
   ],
   "metadata": {
    "id": "_9J00bd_twys",
    "executionInfo": {
     "status": "ok",
     "timestamp": 1662869600537,
     "user_tz": -540,
     "elapsed": 282,
     "user": {
      "displayName": "­구름 | 공과대학 도시공학과 | 겸임교수 | 한양대(서울)",
      "userId": "01437336538035275262"
     }
    },
    "pycharm": {
     "name": "#%%\n"
    }
   },
   "execution_count": 27,
   "outputs": []
  },
  {
   "cell_type": "code",
   "source": [
    "#깃헙 업데이트 당겨오기\n",
    "!git pull\n"
   ],
   "metadata": {
    "colab": {
     "base_uri": "https://localhost:8080/"
    },
    "id": "e2iBVnsQvKVQ",
    "executionInfo": {
     "status": "ok",
     "timestamp": 1662869743124,
     "user_tz": -540,
     "elapsed": 1127,
     "user": {
      "displayName": "­구름 | 공과대학 도시공학과 | 겸임교수 | 한양대(서울)",
      "userId": "01437336538035275262"
     }
    },
    "outputId": "96e924bf-e208-4b95-9899-ef3aa64f5609",
    "pycharm": {
     "name": "#%%\n",
     "is_executing": true
    }
   },
   "execution_count": null,
   "outputs": []
  }
 ]
}